{
 "cells": [
  {
   "cell_type": "code",
   "execution_count": 1,
   "metadata": {
    "collapsed": false
   },
   "outputs": [
    {
     "name": "stdout",
     "output_type": "stream",
     "text": [
      "Checking whether there is an H2O instance running at http://localhost:54321. connected.\n"
     ]
    },
    {
     "data": {
      "text/html": [
       "<div style=\"overflow:auto\"><table style=\"width:50%\"><tr><td>H2O cluster uptime:</td>\n",
       "<td>17 mins 10 secs</td></tr>\n",
       "<tr><td>H2O cluster version:</td>\n",
       "<td>3.10.4.1</td></tr>\n",
       "<tr><td>H2O cluster version age:</td>\n",
       "<td>16 days </td></tr>\n",
       "<tr><td>H2O cluster name:</td>\n",
       "<td>H2O_from_python_jurgentas_dynozj</td></tr>\n",
       "<tr><td>H2O cluster total nodes:</td>\n",
       "<td>1</td></tr>\n",
       "<tr><td>H2O cluster free memory:</td>\n",
       "<td>6.916 Gb</td></tr>\n",
       "<tr><td>H2O cluster total cores:</td>\n",
       "<td>8</td></tr>\n",
       "<tr><td>H2O cluster allowed cores:</td>\n",
       "<td>8</td></tr>\n",
       "<tr><td>H2O cluster status:</td>\n",
       "<td>locked, healthy</td></tr>\n",
       "<tr><td>H2O connection url:</td>\n",
       "<td>http://localhost:54321</td></tr>\n",
       "<tr><td>H2O connection proxy:</td>\n",
       "<td>None</td></tr>\n",
       "<tr><td>H2O internal security:</td>\n",
       "<td>False</td></tr>\n",
       "<tr><td>Python version:</td>\n",
       "<td>2.7.13 final</td></tr></table></div>"
      ],
      "text/plain": [
       "--------------------------  --------------------------------\n",
       "H2O cluster uptime:         17 mins 10 secs\n",
       "H2O cluster version:        3.10.4.1\n",
       "H2O cluster version age:    16 days\n",
       "H2O cluster name:           H2O_from_python_jurgentas_dynozj\n",
       "H2O cluster total nodes:    1\n",
       "H2O cluster free memory:    6.916 Gb\n",
       "H2O cluster total cores:    8\n",
       "H2O cluster allowed cores:  8\n",
       "H2O cluster status:         locked, healthy\n",
       "H2O connection url:         http://localhost:54321\n",
       "H2O connection proxy:\n",
       "H2O internal security:      False\n",
       "Python version:             2.7.13 final\n",
       "--------------------------  --------------------------------"
      ]
     },
     "metadata": {},
     "output_type": "display_data"
    }
   ],
   "source": [
    "# connect to h2o cluster:\n",
    "import h2o\n",
    "h2o.init(nthreads=-1, max_mem_size=\"8G\")"
   ]
  },
  {
   "cell_type": "code",
   "execution_count": 2,
   "metadata": {
    "collapsed": false
   },
   "outputs": [
    {
     "data": {
      "text/html": [
       "<div>\n",
       "<table border=\"1\" class=\"dataframe\">\n",
       "  <thead>\n",
       "    <tr style=\"text-align: right;\">\n",
       "      <th></th>\n",
       "      <th>CRIM</th>\n",
       "      <th>ZN</th>\n",
       "      <th>INDUS</th>\n",
       "      <th>CHAS</th>\n",
       "      <th>NOX</th>\n",
       "      <th>RM</th>\n",
       "      <th>AGE</th>\n",
       "      <th>DIS</th>\n",
       "      <th>RAD</th>\n",
       "      <th>TAX</th>\n",
       "      <th>PRATIO</th>\n",
       "      <th>B</th>\n",
       "      <th>LSTAT</th>\n",
       "      <th>MEDV</th>\n",
       "    </tr>\n",
       "  </thead>\n",
       "  <tbody>\n",
       "    <tr>\n",
       "      <th>0</th>\n",
       "      <td>0.00632</td>\n",
       "      <td>18.0</td>\n",
       "      <td>2.31</td>\n",
       "      <td>0</td>\n",
       "      <td>0.538</td>\n",
       "      <td>6.575</td>\n",
       "      <td>65.2</td>\n",
       "      <td>4.0900</td>\n",
       "      <td>1</td>\n",
       "      <td>296.0</td>\n",
       "      <td>15.3</td>\n",
       "      <td>396.90</td>\n",
       "      <td>4.98</td>\n",
       "      <td>24.0</td>\n",
       "    </tr>\n",
       "    <tr>\n",
       "      <th>1</th>\n",
       "      <td>0.02731</td>\n",
       "      <td>0.0</td>\n",
       "      <td>7.07</td>\n",
       "      <td>0</td>\n",
       "      <td>0.469</td>\n",
       "      <td>6.421</td>\n",
       "      <td>78.9</td>\n",
       "      <td>4.9671</td>\n",
       "      <td>2</td>\n",
       "      <td>242.0</td>\n",
       "      <td>17.8</td>\n",
       "      <td>396.90</td>\n",
       "      <td>9.14</td>\n",
       "      <td>21.6</td>\n",
       "    </tr>\n",
       "    <tr>\n",
       "      <th>2</th>\n",
       "      <td>0.02729</td>\n",
       "      <td>0.0</td>\n",
       "      <td>7.07</td>\n",
       "      <td>0</td>\n",
       "      <td>0.469</td>\n",
       "      <td>7.185</td>\n",
       "      <td>61.1</td>\n",
       "      <td>4.9671</td>\n",
       "      <td>2</td>\n",
       "      <td>242.0</td>\n",
       "      <td>17.8</td>\n",
       "      <td>392.83</td>\n",
       "      <td>4.03</td>\n",
       "      <td>34.7</td>\n",
       "    </tr>\n",
       "    <tr>\n",
       "      <th>3</th>\n",
       "      <td>0.03237</td>\n",
       "      <td>0.0</td>\n",
       "      <td>2.18</td>\n",
       "      <td>0</td>\n",
       "      <td>0.458</td>\n",
       "      <td>6.998</td>\n",
       "      <td>45.8</td>\n",
       "      <td>6.0622</td>\n",
       "      <td>3</td>\n",
       "      <td>222.0</td>\n",
       "      <td>18.7</td>\n",
       "      <td>394.63</td>\n",
       "      <td>2.94</td>\n",
       "      <td>33.4</td>\n",
       "    </tr>\n",
       "    <tr>\n",
       "      <th>4</th>\n",
       "      <td>0.06905</td>\n",
       "      <td>0.0</td>\n",
       "      <td>2.18</td>\n",
       "      <td>0</td>\n",
       "      <td>0.458</td>\n",
       "      <td>7.147</td>\n",
       "      <td>54.2</td>\n",
       "      <td>6.0622</td>\n",
       "      <td>3</td>\n",
       "      <td>222.0</td>\n",
       "      <td>18.7</td>\n",
       "      <td>396.90</td>\n",
       "      <td>5.33</td>\n",
       "      <td>36.2</td>\n",
       "    </tr>\n",
       "  </tbody>\n",
       "</table>\n",
       "</div>"
      ],
      "text/plain": [
       "      CRIM    ZN  INDUS  CHAS    NOX     RM   AGE     DIS  RAD    TAX  PRATIO  \\\n",
       "0  0.00632  18.0   2.31     0  0.538  6.575  65.2  4.0900    1  296.0    15.3   \n",
       "1  0.02731   0.0   7.07     0  0.469  6.421  78.9  4.9671    2  242.0    17.8   \n",
       "2  0.02729   0.0   7.07     0  0.469  7.185  61.1  4.9671    2  242.0    17.8   \n",
       "3  0.03237   0.0   2.18     0  0.458  6.998  45.8  6.0622    3  222.0    18.7   \n",
       "4  0.06905   0.0   2.18     0  0.458  7.147  54.2  6.0622    3  222.0    18.7   \n",
       "\n",
       "        B  LSTAT  MEDV  \n",
       "0  396.90   4.98  24.0  \n",
       "1  396.90   9.14  21.6  \n",
       "2  392.83   4.03  34.7  \n",
       "3  394.63   2.94  33.4  \n",
       "4  396.90   5.33  36.2  "
      ]
     },
     "execution_count": 2,
     "metadata": {},
     "output_type": "execute_result"
    }
   ],
   "source": [
    "# Title: Boston Housing Data\n",
    "\n",
    "#CRIM     per capita crime rate by town\n",
    "#ZN       proportion of residential land zoned for lots over 25,000 sq.ft.\n",
    "#INDUS    proportion of non-retail business acres per town\n",
    "#CHAS     Charles River dummy variable (= 1 if tract bounds river; 0 otherwise)\n",
    "#NOX      nitric oxides concentration (parts per 10 million)\n",
    "#RM       average number of rooms per dwelling\n",
    "#AGE      proportion of owner-occupied units built prior to 1940\n",
    "#DIS      weighted distances to five Boston employment centres\n",
    "#RAD      index of accessibility to radial highways\n",
    "#TAX      full-value property-tax rate per $10,000\n",
    "#PTRATIO  pupil-teacher ratio by town\n",
    "#B        1000(Bk - 0.63)^2 where Bk is the proportion of blacks by town\n",
    "#LSTAT    % lower status of the population\n",
    "#MEDV     Median value of owner-occupied homes in $1000's\n",
    "\n",
    "import pandas as pd\n",
    "\n",
    "url = 'https://archive.ics.uci.edu/ml/machine-learning-databases/housing/housing.data'\n",
    "names = ['CRIM', 'ZN', 'INDUS', 'CHAS', 'NOX', 'RM', 'AGE', 'DIS', 'RAD', 'TAX', 'PRATIO', 'B', 'LSTAT', 'MEDV']\n",
    "df = pd.read_csv(url, delim_whitespace=True, names = names)\n",
    "df.head()"
   ]
  },
  {
   "cell_type": "code",
   "execution_count": 3,
   "metadata": {
    "collapsed": false
   },
   "outputs": [
    {
     "name": "stdout",
     "output_type": "stream",
     "text": [
      "Parse progress: |█████████████████████████████████████████████████████████| 100%\n",
      "Rows:506\n",
      "Cols:14\n",
      "\n",
      "\n"
     ]
    },
    {
     "data": {
      "text/html": [
       "<table>\n",
       "<thead>\n",
       "<tr><th>       </th><th>CRIM         </th><th>ZN           </th><th>INDUS        </th><th>CHAS           </th><th>NOX           </th><th>RM            </th><th>AGE          </th><th>DIS          </th><th>RAD          </th><th>TAX          </th><th>PRATIO       </th><th>B            </th><th>LSTAT        </th><th>MEDV         </th></tr>\n",
       "</thead>\n",
       "<tbody>\n",
       "<tr><td>type   </td><td>real         </td><td>real         </td><td>real         </td><td>int            </td><td>real          </td><td>real          </td><td>real         </td><td>real         </td><td>int          </td><td>int          </td><td>real         </td><td>real         </td><td>real         </td><td>real         </td></tr>\n",
       "<tr><td>mins   </td><td>0.00632      </td><td>0.0          </td><td>0.46         </td><td>0.0            </td><td>0.385         </td><td>3.561         </td><td>2.9          </td><td>1.1296       </td><td>1.0          </td><td>187.0        </td><td>12.6         </td><td>0.32         </td><td>1.73         </td><td>5.0          </td></tr>\n",
       "<tr><td>mean   </td><td>3.61352355731</td><td>11.3636363636</td><td>11.1367786561</td><td>0.0691699604743</td><td>0.554695059289</td><td>6.28463438735 </td><td>68.5749011858</td><td>3.79504268775</td><td>9.54940711462</td><td>408.23715415 </td><td>18.4555335968</td><td>356.674031621</td><td>12.6530632411</td><td>22.5328063241</td></tr>\n",
       "<tr><td>maxs   </td><td>88.9762      </td><td>100.0        </td><td>27.74        </td><td>1.0            </td><td>0.871         </td><td>8.78          </td><td>100.0        </td><td>12.1265      </td><td>24.0         </td><td>711.0        </td><td>22.0         </td><td>396.9        </td><td>37.97        </td><td>50.0         </td></tr>\n",
       "<tr><td>sigma  </td><td>8.60154510533</td><td>23.3224529945</td><td>6.8603529409 </td><td>0.25399404134  </td><td>0.115877675668</td><td>0.702617143415</td><td>28.1488614069</td><td>2.10571012663</td><td>8.70725938424</td><td>168.537116055</td><td>2.16494552371</td><td>91.2948643842</td><td>7.14106151135</td><td>9.19710408738</td></tr>\n",
       "<tr><td>zeros  </td><td>0            </td><td>372          </td><td>0            </td><td>471            </td><td>0             </td><td>0             </td><td>0            </td><td>0            </td><td>0            </td><td>0            </td><td>0            </td><td>0            </td><td>0            </td><td>0            </td></tr>\n",
       "<tr><td>missing</td><td>0            </td><td>0            </td><td>0            </td><td>0              </td><td>0             </td><td>0             </td><td>0            </td><td>0            </td><td>0            </td><td>0            </td><td>0            </td><td>0            </td><td>0            </td><td>0            </td></tr>\n",
       "<tr><td>0      </td><td>0.00632      </td><td>18.0         </td><td>2.31         </td><td>0.0            </td><td>0.538         </td><td>6.575         </td><td>65.2         </td><td>4.09         </td><td>1.0          </td><td>296.0        </td><td>15.3         </td><td>396.9        </td><td>4.98         </td><td>24.0         </td></tr>\n",
       "<tr><td>1      </td><td>0.02731      </td><td>0.0          </td><td>7.07         </td><td>0.0            </td><td>0.469         </td><td>6.421         </td><td>78.9         </td><td>4.9671       </td><td>2.0          </td><td>242.0        </td><td>17.8         </td><td>396.9        </td><td>9.14         </td><td>21.6         </td></tr>\n",
       "<tr><td>2      </td><td>0.02729      </td><td>0.0          </td><td>7.07         </td><td>0.0            </td><td>0.469         </td><td>7.185         </td><td>61.1         </td><td>4.9671       </td><td>2.0          </td><td>242.0        </td><td>17.8         </td><td>392.83       </td><td>4.03         </td><td>34.7         </td></tr>\n",
       "<tr><td>3      </td><td>0.03237      </td><td>0.0          </td><td>2.18         </td><td>0.0            </td><td>0.458         </td><td>6.998         </td><td>45.8         </td><td>6.0622       </td><td>3.0          </td><td>222.0        </td><td>18.7         </td><td>394.63       </td><td>2.94         </td><td>33.4         </td></tr>\n",
       "<tr><td>4      </td><td>0.06905      </td><td>0.0          </td><td>2.18         </td><td>0.0            </td><td>0.458         </td><td>7.147         </td><td>54.2         </td><td>6.0622       </td><td>3.0          </td><td>222.0        </td><td>18.7         </td><td>396.9        </td><td>5.33         </td><td>36.2         </td></tr>\n",
       "<tr><td>5      </td><td>0.02985      </td><td>0.0          </td><td>2.18         </td><td>0.0            </td><td>0.458         </td><td>6.43          </td><td>58.7         </td><td>6.0622       </td><td>3.0          </td><td>222.0        </td><td>18.7         </td><td>394.12       </td><td>5.21         </td><td>28.7         </td></tr>\n",
       "<tr><td>6      </td><td>0.08829      </td><td>12.5         </td><td>7.87         </td><td>0.0            </td><td>0.524         </td><td>6.012         </td><td>66.6         </td><td>5.5605       </td><td>5.0          </td><td>311.0        </td><td>15.2         </td><td>395.6        </td><td>12.43        </td><td>22.9         </td></tr>\n",
       "<tr><td>7      </td><td>0.14455      </td><td>12.5         </td><td>7.87         </td><td>0.0            </td><td>0.524         </td><td>6.172         </td><td>96.1         </td><td>5.9505       </td><td>5.0          </td><td>311.0        </td><td>15.2         </td><td>396.9        </td><td>19.15        </td><td>27.1         </td></tr>\n",
       "<tr><td>8      </td><td>0.21124      </td><td>12.5         </td><td>7.87         </td><td>0.0            </td><td>0.524         </td><td>5.631         </td><td>100.0        </td><td>6.0821       </td><td>5.0          </td><td>311.0        </td><td>15.2         </td><td>386.63       </td><td>29.93        </td><td>16.5         </td></tr>\n",
       "<tr><td>9      </td><td>0.17004      </td><td>12.5         </td><td>7.87         </td><td>0.0            </td><td>0.524         </td><td>6.004         </td><td>85.9         </td><td>6.5921       </td><td>5.0          </td><td>311.0        </td><td>15.2         </td><td>386.71       </td><td>17.1         </td><td>18.9         </td></tr>\n",
       "</tbody>\n",
       "</table>"
      ]
     },
     "metadata": {},
     "output_type": "display_data"
    }
   ],
   "source": [
    "# construct h2o dataframe:\n",
    "df_hex = h2o.H2OFrame(df, column_names = df.columns.tolist())\n",
    "df_hex.describe()"
   ]
  },
  {
   "cell_type": "code",
   "execution_count": 4,
   "metadata": {
    "collapsed": true
   },
   "outputs": [],
   "source": [
    "# determine response and predictor variables:\n",
    "x =  ['CRIM', 'ZN', 'INDUS', 'CHAS', 'NOX', 'RM', 'AGE', 'DIS', 'RAD', 'TAX', 'PRATIO', 'B', 'LSTAT'] \n",
    "y = 'MEDV'"
   ]
  },
  {
   "cell_type": "code",
   "execution_count": 5,
   "metadata": {
    "collapsed": false
   },
   "outputs": [],
   "source": [
    "# split data into train and testing:\n",
    "train, test = df_hex.split_frame(ratios=[0.7], seed=123)"
   ]
  },
  {
   "cell_type": "code",
   "execution_count": 6,
   "metadata": {
    "collapsed": false
   },
   "outputs": [
    {
     "name": "stdout",
     "output_type": "stream",
     "text": [
      "glm Grid Build progress: |████████████████████████████████████████████████| 100%\n",
      "\n",
      "Grid Summary:\n",
      "\n"
     ]
    },
    {
     "data": {
      "text/html": [
       "<div style=\"overflow:auto\"><table style=\"width:50%\"><tr><td><b>Model Id</b></td>\n",
       "<td><b>family</b></td>\n",
       "<td><b>link</b></td>\n",
       "<td><b>regularization</b></td>\n",
       "<td><b>number_of_predictors_total</b></td>\n",
       "<td><b>number_of_active_predictors</b></td>\n",
       "<td><b>number_of_iterations</b></td>\n",
       "<td><b>training_frame</b></td></tr>\n",
       "<tr><td>Grid_GLM_py_3_sid_ac96_model_python_1490001970850_1_model_0</td>\n",
       "<td>gaussian</td>\n",
       "<td>identity</td>\n",
       "<td>None</td>\n",
       "<td>13</td>\n",
       "<td>13</td>\n",
       "<td>0</td>\n",
       "<td>py_3_sid_ac96</td></tr>\n",
       "<tr><td>Grid_GLM_py_3_sid_ac96_model_python_1490001970850_1_model_1</td>\n",
       "<td>gaussian</td>\n",
       "<td>identity</td>\n",
       "<td>Elastic Net (alpha = 0.5, lambda = 0.25 )</td>\n",
       "<td>13</td>\n",
       "<td>13</td>\n",
       "<td>0</td>\n",
       "<td>py_3_sid_ac96</td></tr>\n",
       "<tr><td>Grid_GLM_py_3_sid_ac96_model_python_1490001970850_1_model_2</td>\n",
       "<td>gaussian</td>\n",
       "<td>identity</td>\n",
       "<td>Elastic Net (alpha = 0.5, lambda = 0.5 )</td>\n",
       "<td>13</td>\n",
       "<td>12</td>\n",
       "<td>0</td>\n",
       "<td>py_3_sid_ac96</td></tr>\n",
       "<tr><td>Grid_GLM_py_3_sid_ac96_model_python_1490001970850_1_model_3</td>\n",
       "<td>gaussian</td>\n",
       "<td>identity</td>\n",
       "<td>Elastic Net (alpha = 0.5, lambda = 0.75 )</td>\n",
       "<td>13</td>\n",
       "<td>11</td>\n",
       "<td>0</td>\n",
       "<td>py_3_sid_ac96</td></tr>\n",
       "<tr><td>Grid_GLM_py_3_sid_ac96_model_python_1490001970850_1_model_4</td>\n",
       "<td>gaussian</td>\n",
       "<td>identity</td>\n",
       "<td>Elastic Net (alpha = 0.5, lambda = 1.0 )</td>\n",
       "<td>13</td>\n",
       "<td>10</td>\n",
       "<td>0</td>\n",
       "<td>py_3_sid_ac96</td></tr></table></div>"
      ],
      "text/plain": [
       "Model Id                                                     family    link      regularization                             number_of_predictors_total    number_of_active_predictors    number_of_iterations    training_frame\n",
       "-----------------------------------------------------------  --------  --------  -----------------------------------------  ----------------------------  -----------------------------  ----------------------  ----------------\n",
       "Grid_GLM_py_3_sid_ac96_model_python_1490001970850_1_model_0  gaussian  identity  None                                       13                            13                             0                       py_3_sid_ac96\n",
       "Grid_GLM_py_3_sid_ac96_model_python_1490001970850_1_model_1  gaussian  identity  Elastic Net (alpha = 0.5, lambda = 0.25 )  13                            13                             0                       py_3_sid_ac96\n",
       "Grid_GLM_py_3_sid_ac96_model_python_1490001970850_1_model_2  gaussian  identity  Elastic Net (alpha = 0.5, lambda = 0.5 )   13                            12                             0                       py_3_sid_ac96\n",
       "Grid_GLM_py_3_sid_ac96_model_python_1490001970850_1_model_3  gaussian  identity  Elastic Net (alpha = 0.5, lambda = 0.75 )  13                            11                             0                       py_3_sid_ac96\n",
       "Grid_GLM_py_3_sid_ac96_model_python_1490001970850_1_model_4  gaussian  identity  Elastic Net (alpha = 0.5, lambda = 1.0 )   13                            10                             0                       py_3_sid_ac96"
      ]
     },
     "metadata": {},
     "output_type": "display_data"
    }
   ],
   "source": [
    "# hyperparameter search (glm):\n",
    "\n",
    "from h2o.estimators.glm import H2OGeneralizedLinearEstimator \n",
    "import h2o.grid\n",
    "\n",
    "grid_search = h2o.grid.H2OGridSearch(\n",
    "    H2OGeneralizedLinearEstimator(\n",
    "        family=\"gaussian\",\n",
    "        nfolds = 5,\n",
    "        standardize = True,\n",
    "        seed = 123\n",
    "    ),\n",
    "    hyper_params ={\n",
    "        \"lambda\": [0.0, 0.25, 0.5, 0.75, 1.0]\n",
    "    }   \n",
    ")\n",
    "\n",
    "grid_search.train(x, y, train)\n",
    "grid_search.summary()"
   ]
  },
  {
   "cell_type": "code",
   "execution_count": 7,
   "metadata": {
    "collapsed": false
   },
   "outputs": [],
   "source": [
    "# sorted on r-squared:\n",
    "grid_sorted = grid_search.get_grid(sort_by='r2', decreasing=True)"
   ]
  },
  {
   "cell_type": "code",
   "execution_count": 8,
   "metadata": {
    "collapsed": false
   },
   "outputs": [
    {
     "name": "stdout",
     "output_type": "stream",
     "text": [
      "Model Details\n",
      "=============\n",
      "H2OGeneralizedLinearEstimator :  Generalized Linear Modeling\n",
      "Model Key:  Grid_GLM_py_3_sid_ac96_model_python_1490001970850_1_model_0\n",
      "\n",
      "\n",
      "ModelMetricsRegressionGLM: glm\n",
      "** Reported on train data. **\n",
      "\n",
      "MSE: 22.3367057639\n",
      "RMSE: 4.72617242215\n",
      "MAE: 3.31380091132\n",
      "RMSLE: NaN\n",
      "R^2: 0.737585336009\n",
      "Mean Residual Deviance: 22.3367057639\n",
      "Null degrees of freedom: 342\n",
      "Residual degrees of freedom: 329\n",
      "Null deviance: 29196.1202187\n",
      "Residual deviance: 7661.49007703\n",
      "AIC: 2068.8291778\n",
      "\n",
      "ModelMetricsRegressionGLM: glm\n",
      "** Reported on cross-validation data. **\n",
      "\n",
      "MSE: 25.3188434263\n",
      "RMSE: 5.03178332466\n",
      "MAE: 3.48856931632\n",
      "RMSLE: NaN\n",
      "R^2: 0.702550776262\n",
      "Mean Residual Deviance: 25.3188434263\n",
      "Null degrees of freedom: 342\n",
      "Residual degrees of freedom: 329\n",
      "Null deviance: 29302.0376918\n",
      "Residual deviance: 8684.36329522\n",
      "AIC: 2111.81311264\n",
      "Cross-Validation Metrics Summary: \n"
     ]
    },
    {
     "data": {
      "text/html": [
       "<div style=\"overflow:auto\"><table style=\"width:50%\"><tr><td><b></b></td>\n",
       "<td><b>mean</b></td>\n",
       "<td><b>sd</b></td>\n",
       "<td><b>cv_1_valid</b></td>\n",
       "<td><b>cv_2_valid</b></td>\n",
       "<td><b>cv_3_valid</b></td>\n",
       "<td><b>cv_4_valid</b></td>\n",
       "<td><b>cv_5_valid</b></td></tr>\n",
       "<tr><td>mae</td>\n",
       "<td>3.479682</td>\n",
       "<td>0.3556168</td>\n",
       "<td>3.246322</td>\n",
       "<td>3.3808255</td>\n",
       "<td>3.9688563</td>\n",
       "<td>4.089968</td>\n",
       "<td>2.712438</td></tr>\n",
       "<tr><td>mse</td>\n",
       "<td>25.464556</td>\n",
       "<td>6.953854</td>\n",
       "<td>18.901676</td>\n",
       "<td>20.12889</td>\n",
       "<td>38.392044</td>\n",
       "<td>36.003834</td>\n",
       "<td>13.896333</td></tr>\n",
       "<tr><td>null_deviance</td>\n",
       "<td>5860.4077</td>\n",
       "<td>931.611</td>\n",
       "<td>5384.285</td>\n",
       "<td>4822.9844</td>\n",
       "<td>6687.427</td>\n",
       "<td>8000.3945</td>\n",
       "<td>4406.947</td></tr>\n",
       "<tr><td>r2</td>\n",
       "<td>0.7085937</td>\n",
       "<td>0.0452778</td>\n",
       "<td>0.7565978</td>\n",
       "<td>0.6498240</td>\n",
       "<td>0.6547624</td>\n",
       "<td>0.6710411</td>\n",
       "<td>0.810743</td></tr>\n",
       "<tr><td>residual_deviance</td>\n",
       "<td>1736.8727</td>\n",
       "<td>454.20526</td>\n",
       "<td>1304.2157</td>\n",
       "<td>1650.5688</td>\n",
       "<td>2303.5227</td>\n",
       "<td>2592.2761</td>\n",
       "<td>833.77997</td></tr>\n",
       "<tr><td>rmse</td>\n",
       "<td>4.9516716</td>\n",
       "<td>0.6875693</td>\n",
       "<td>4.3476057</td>\n",
       "<td>4.486523</td>\n",
       "<td>6.196131</td>\n",
       "<td>6.0003195</td>\n",
       "<td>3.7277784</td></tr>\n",
       "<tr><td>rmsle</td>\n",
       "<td>0.2452487</td>\n",
       "<td>0.0434107</td>\n",
       "<td>0.3138559</td>\n",
       "<td>0.2590513</td>\n",
       "<td>0.2428624</td>\n",
       "<td>NaN</td>\n",
       "<td>0.1652251</td></tr></table></div>"
      ],
      "text/plain": [
       "                   mean      sd         cv_1_valid    cv_2_valid    cv_3_valid    cv_4_valid    cv_5_valid\n",
       "-----------------  --------  ---------  ------------  ------------  ------------  ------------  ------------\n",
       "mae                3.47968   0.355617   3.24632       3.38083       3.96886       4.08997       2.71244\n",
       "mse                25.4646   6.95385    18.9017       20.1289       38.392        36.0038       13.8963\n",
       "null_deviance      5860.41   931.611    5384.28       4822.98       6687.43       8000.39       4406.95\n",
       "r2                 0.708594  0.0452778  0.756598      0.649824      0.654762      0.671041      0.810743\n",
       "residual_deviance  1736.87   454.205    1304.22       1650.57       2303.52       2592.28       833.78\n",
       "rmse               4.95167   0.687569   4.34761       4.48652       6.19613       6.00032       3.72778\n",
       "rmsle              0.245249  0.0434107  0.313856      0.259051      0.242862      nan           0.165225"
      ]
     },
     "metadata": {},
     "output_type": "display_data"
    },
    {
     "name": "stdout",
     "output_type": "stream",
     "text": [
      "Scoring History: \n"
     ]
    },
    {
     "data": {
      "text/html": [
       "<div style=\"overflow:auto\"><table style=\"width:50%\"><tr><td><b></b></td>\n",
       "<td><b>timestamp</b></td>\n",
       "<td><b>duration</b></td>\n",
       "<td><b>iteration</b></td>\n",
       "<td><b>negative_log_likelihood</b></td>\n",
       "<td><b>objective</b></td></tr>\n",
       "<tr><td></td>\n",
       "<td>2017-03-20 10:43:31</td>\n",
       "<td> 0.000 sec</td>\n",
       "<td>0</td>\n",
       "<td>29196.12</td>\n",
       "<td>85.1198834</td></tr></table></div>"
      ],
      "text/plain": [
       "    timestamp            duration    iteration    negative_log_likelihood    objective\n",
       "--  -------------------  ----------  -----------  -------------------------  -----------\n",
       "    2017-03-20 10:43:31  0.000 sec   0            29196.1                    85.1199"
      ]
     },
     "metadata": {},
     "output_type": "display_data"
    },
    {
     "name": "stdout",
     "output_type": "stream",
     "text": [
      "\n"
     ]
    }
   ],
   "source": [
    "# get the best performing model:\n",
    "best_model = grid_sorted.models[0]\n",
    "print best_model "
   ]
  },
  {
   "cell_type": "code",
   "execution_count": 9,
   "metadata": {
    "collapsed": false
   },
   "outputs": [
    {
     "name": "stdout",
     "output_type": "stream",
     "text": [
      "\n",
      "ModelMetricsRegressionGLM: glm\n",
      "** Reported on test data. **\n",
      "\n",
      "MSE: 22.0185817311\n",
      "RMSE: 4.69239616093\n",
      "MAE: 3.28459578997\n",
      "RMSLE: 0.232802378237\n",
      "R^2: 0.734219141244\n",
      "Mean Residual Deviance: 22.0185817311\n",
      "Null degrees of freedom: 162\n",
      "Residual degrees of freedom: 149\n",
      "Null deviance: 13527.9979262\n",
      "Residual deviance: 3589.02882218\n",
      "AIC: 996.551497349\n",
      "\n"
     ]
    }
   ],
   "source": [
    "# out-of-sample:\n",
    "performance = best_model.model_performance(test)\n",
    "print performance"
   ]
  },
  {
   "cell_type": "code",
   "execution_count": 10,
   "metadata": {
    "collapsed": false
   },
   "outputs": [
    {
     "name": "stdout",
     "output_type": "stream",
     "text": [
      "H2O session _sid_ac96 closed.\n"
     ]
    }
   ],
   "source": [
    "h2o.cluster().shutdown()"
   ]
  }
 ],
 "metadata": {
  "kernelspec": {
   "display_name": "Python 2",
   "language": "python",
   "name": "python2"
  },
  "language_info": {
   "codemirror_mode": {
    "name": "ipython",
    "version": 2
   },
   "file_extension": ".py",
   "mimetype": "text/x-python",
   "name": "python",
   "nbconvert_exporter": "python",
   "pygments_lexer": "ipython2",
   "version": "2.7.13"
  }
 },
 "nbformat": 4,
 "nbformat_minor": 2
}
