{
 "cells": [
  {
   "cell_type": "code",
   "execution_count": 1,
   "metadata": {},
   "outputs": [],
   "source": [
    "# convert string to date [with year and quarter]\n",
    "import pandas as pd\n",
    "\n",
    "\n",
    "df = pd.DataFrame({'date':['2015Q1','2015Q2']})"
   ]
  },
  {
   "cell_type": "code",
   "execution_count": 2,
   "metadata": {},
   "outputs": [],
   "source": [
    "# convert datetime to end-of-month:\n",
    "df['date_index'] = pd.to_datetime(df.date) + pd.offsets.MonthEnd(0) "
   ]
  },
  {
   "cell_type": "code",
   "execution_count": 3,
   "metadata": {},
   "outputs": [],
   "source": [
    "df['year'] = df['date_index'].dt.year \n",
    "df['quarter'] = df['date_index'].dt.quarter"
   ]
  },
  {
   "cell_type": "code",
   "execution_count": 4,
   "metadata": {},
   "outputs": [
    {
     "data": {
      "text/html": [
       "<div>\n",
       "<style scoped>\n",
       "    .dataframe tbody tr th:only-of-type {\n",
       "        vertical-align: middle;\n",
       "    }\n",
       "\n",
       "    .dataframe tbody tr th {\n",
       "        vertical-align: top;\n",
       "    }\n",
       "\n",
       "    .dataframe thead th {\n",
       "        text-align: right;\n",
       "    }\n",
       "</style>\n",
       "<table border=\"1\" class=\"dataframe\">\n",
       "  <thead>\n",
       "    <tr style=\"text-align: right;\">\n",
       "      <th></th>\n",
       "      <th>date</th>\n",
       "      <th>date_index</th>\n",
       "      <th>year</th>\n",
       "      <th>quarter</th>\n",
       "    </tr>\n",
       "  </thead>\n",
       "  <tbody>\n",
       "    <tr>\n",
       "      <th>0</th>\n",
       "      <td>2015Q1</td>\n",
       "      <td>2015-01-31</td>\n",
       "      <td>2015</td>\n",
       "      <td>1</td>\n",
       "    </tr>\n",
       "    <tr>\n",
       "      <th>1</th>\n",
       "      <td>2015Q2</td>\n",
       "      <td>2015-04-30</td>\n",
       "      <td>2015</td>\n",
       "      <td>2</td>\n",
       "    </tr>\n",
       "  </tbody>\n",
       "</table>\n",
       "</div>"
      ],
      "text/plain": [
       "     date date_index  year  quarter\n",
       "0  2015Q1 2015-01-31  2015        1\n",
       "1  2015Q2 2015-04-30  2015        2"
      ]
     },
     "execution_count": 4,
     "metadata": {},
     "output_type": "execute_result"
    }
   ],
   "source": [
    "df"
   ]
  },
  {
   "cell_type": "code",
   "execution_count": 5,
   "metadata": {},
   "outputs": [
    {
     "name": "stdout",
     "output_type": "stream",
     "text": [
      "(2, 'd')\n",
      "(4, 'a')\n",
      "(3, 'c')\n",
      "(1, 'b')\n"
     ]
    }
   ],
   "source": [
    "# get ordered series (by index):\n",
    "keys = [2, 4, 3, 1]\n",
    "vals = ['d', 'a', 'c', 'b']\n",
    "series = pd.Series(dict(zip(keys, vals)))\n",
    "for x in series.iteritems():\n",
    "    print(x)"
   ]
  },
  {
   "cell_type": "code",
   "execution_count": 6,
   "metadata": {},
   "outputs": [
    {
     "data": {
      "text/plain": [
       "2    d\n",
       "4    a\n",
       "3    c\n",
       "1    b\n",
       "dtype: object"
      ]
     },
     "execution_count": 6,
     "metadata": {},
     "output_type": "execute_result"
    }
   ],
   "source": [
    "series"
   ]
  },
  {
   "cell_type": "code",
   "execution_count": 7,
   "metadata": {},
   "outputs": [],
   "source": [
    "dates = pd.date_range('2012', periods=12, freq='A')\n",
    "val = [x for x in range(0, len(dates))]\n",
    "s = pd.Series(index=dates,data=val)"
   ]
  },
  {
   "cell_type": "code",
   "execution_count": 8,
   "metadata": {
    "scrolled": true
   },
   "outputs": [
    {
     "name": "stdout",
     "output_type": "stream",
     "text": [
      "2012-12-31    0.00\n",
      "2013-03-31    0.25\n",
      "2013-06-30    0.25\n",
      "2013-09-30    0.25\n",
      "2013-12-31    0.25\n",
      "2014-03-31    0.50\n",
      "2014-06-30    0.50\n",
      "2014-09-30    0.50\n",
      "2014-12-31    0.50\n",
      "2015-03-31    0.75\n",
      "2015-06-30    0.75\n",
      "2015-09-30    0.75\n",
      "2015-12-31    0.75\n",
      "2016-03-31    1.00\n",
      "2016-06-30    1.00\n",
      "2016-09-30    1.00\n",
      "2016-12-31    1.00\n",
      "2017-03-31    1.25\n",
      "2017-06-30    1.25\n",
      "2017-09-30    1.25\n",
      "2017-12-31    1.25\n",
      "2018-03-31    1.50\n",
      "2018-06-30    1.50\n",
      "2018-09-30    1.50\n",
      "2018-12-31    1.50\n",
      "2019-03-31    1.75\n",
      "2019-06-30    1.75\n",
      "2019-09-30    1.75\n",
      "2019-12-31    1.75\n",
      "2020-03-31    2.00\n",
      "2020-06-30    2.00\n",
      "2020-09-30    2.00\n",
      "2020-12-31    2.00\n",
      "2021-03-31    2.25\n",
      "2021-06-30    2.25\n",
      "2021-09-30    2.25\n",
      "2021-12-31    2.25\n",
      "2022-03-31    2.50\n",
      "2022-06-30    2.50\n",
      "2022-09-30    2.50\n",
      "2022-12-31    2.50\n",
      "2023-03-31    2.75\n",
      "2023-06-30    2.75\n",
      "2023-09-30    2.75\n",
      "2023-12-31    2.75\n",
      "Freq: Q-DEC, dtype: float64\n"
     ]
    }
   ],
   "source": [
    "s1 = s.resample('Q').bfill()/4\n",
    "print(s1)"
   ]
  },
  {
   "cell_type": "code",
   "execution_count": 9,
   "metadata": {},
   "outputs": [
    {
     "data": {
      "text/plain": [
       "2012-12-31    0.00\n",
       "2013-03-31    0.25\n",
       "2013-06-30    0.25\n",
       "2013-09-30    0.25\n",
       "2013-12-31    0.25\n",
       "2014-03-31    0.50\n",
       "2014-06-30    0.50\n",
       "2014-09-30    0.50\n",
       "2014-12-31    0.50\n",
       "2015-03-31    0.75\n",
       "2015-06-30    0.75\n",
       "2015-09-30    0.75\n",
       "2015-12-31    0.75\n",
       "2016-03-31    1.00\n",
       "2016-06-30    1.00\n",
       "2016-09-30    1.00\n",
       "2016-12-31    1.00\n",
       "2017-03-31    1.25\n",
       "2017-06-30    1.25\n",
       "2017-09-30    1.25\n",
       "2017-12-31    1.25\n",
       "2018-03-31    1.50\n",
       "2018-06-30    1.50\n",
       "2018-09-30    1.50\n",
       "2018-12-31    1.50\n",
       "2019-03-31    1.75\n",
       "2019-06-30    1.75\n",
       "2019-09-30    1.75\n",
       "2019-12-31    1.75\n",
       "2020-03-31    2.00\n",
       "2020-06-30    2.00\n",
       "2020-09-30    2.00\n",
       "2020-12-31    2.00\n",
       "2021-03-31    2.25\n",
       "2021-06-30    2.25\n",
       "2021-09-30    2.25\n",
       "2021-12-31    2.25\n",
       "2022-03-31    2.50\n",
       "2022-06-30    2.50\n",
       "2022-09-30    2.50\n",
       "2022-12-31    2.50\n",
       "2023-03-31    2.75\n",
       "2023-06-30    2.75\n",
       "2023-09-30    2.75\n",
       "2023-12-31    2.75\n",
       "Freq: Q-DEC, dtype: float64"
      ]
     },
     "execution_count": 9,
     "metadata": {},
     "output_type": "execute_result"
    }
   ],
   "source": [
    "s1"
   ]
  },
  {
   "cell_type": "code",
   "execution_count": null,
   "metadata": {},
   "outputs": [],
   "source": []
  }
 ],
 "metadata": {
  "anaconda-cloud": {},
  "kernelspec": {
   "display_name": "Python 3",
   "language": "python",
   "name": "python3"
  },
  "language_info": {
   "codemirror_mode": {
    "name": "ipython",
    "version": 3
   },
   "file_extension": ".py",
   "mimetype": "text/x-python",
   "name": "python",
   "nbconvert_exporter": "python",
   "pygments_lexer": "ipython3",
   "version": "3.9.1"
  }
 },
 "nbformat": 4,
 "nbformat_minor": 1
}
