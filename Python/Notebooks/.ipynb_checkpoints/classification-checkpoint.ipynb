{
 "cells": [
  {
   "cell_type": "code",
   "execution_count": 1,
   "metadata": {},
   "outputs": [
    {
     "name": "stdout",
     "output_type": "stream",
     "text": [
      "Checking whether there is an H2O instance running at http://localhost:54321. connected.\n",
      "Warning: Your H2O cluster version is too old (5 months and 14 days)! Please download and install the latest version from http://h2o.ai/download/\n"
     ]
    },
    {
     "data": {
      "text/html": [
       "<div style=\"overflow:auto\"><table style=\"width:50%\"><tr><td>H2O cluster uptime:</td>\n",
       "<td>18 days 17 hours 45 mins</td></tr>\n",
       "<tr><td>H2O cluster version:</td>\n",
       "<td>3.10.4.8</td></tr>\n",
       "<tr><td>H2O cluster version age:</td>\n",
       "<td>5 months and 14 days !!!</td></tr>\n",
       "<tr><td>H2O cluster name:</td>\n",
       "<td>H2O_from_python_jurgentas_t81piy</td></tr>\n",
       "<tr><td>H2O cluster total nodes:</td>\n",
       "<td>1</td></tr>\n",
       "<tr><td>H2O cluster free memory:</td>\n",
       "<td>6.920 Gb</td></tr>\n",
       "<tr><td>H2O cluster total cores:</td>\n",
       "<td>4</td></tr>\n",
       "<tr><td>H2O cluster allowed cores:</td>\n",
       "<td>4</td></tr>\n",
       "<tr><td>H2O cluster status:</td>\n",
       "<td>locked, healthy</td></tr>\n",
       "<tr><td>H2O connection url:</td>\n",
       "<td>http://localhost:54321</td></tr>\n",
       "<tr><td>H2O connection proxy:</td>\n",
       "<td>None</td></tr>\n",
       "<tr><td>H2O internal security:</td>\n",
       "<td>False</td></tr>\n",
       "<tr><td>Python version:</td>\n",
       "<td>3.6.1 final</td></tr></table></div>"
      ],
      "text/plain": [
       "--------------------------  --------------------------------\n",
       "H2O cluster uptime:         18 days 17 hours 45 mins\n",
       "H2O cluster version:        3.10.4.8\n",
       "H2O cluster version age:    5 months and 14 days !!!\n",
       "H2O cluster name:           H2O_from_python_jurgentas_t81piy\n",
       "H2O cluster total nodes:    1\n",
       "H2O cluster free memory:    6.920 Gb\n",
       "H2O cluster total cores:    4\n",
       "H2O cluster allowed cores:  4\n",
       "H2O cluster status:         locked, healthy\n",
       "H2O connection url:         http://localhost:54321\n",
       "H2O connection proxy:\n",
       "H2O internal security:      False\n",
       "Python version:             3.6.1 final\n",
       "--------------------------  --------------------------------"
      ]
     },
     "metadata": {},
     "output_type": "display_data"
    }
   ],
   "source": [
    "# connect to h2o cluster:\n",
    "import h2o\n",
    "h2o.init(nthreads=-1, max_mem_size=\"8G\")"
   ]
  },
  {
   "cell_type": "code",
   "execution_count": 2,
   "metadata": {},
   "outputs": [
    {
     "data": {
      "text/html": [
       "<div>\n",
       "<style>\n",
       "    .dataframe thead tr:only-child th {\n",
       "        text-align: right;\n",
       "    }\n",
       "\n",
       "    .dataframe thead th {\n",
       "        text-align: left;\n",
       "    }\n",
       "\n",
       "    .dataframe tbody tr th {\n",
       "        vertical-align: top;\n",
       "    }\n",
       "</style>\n",
       "<table border=\"1\" class=\"dataframe\">\n",
       "  <thead>\n",
       "    <tr style=\"text-align: right;\">\n",
       "      <th></th>\n",
       "      <th>Sample code number</th>\n",
       "      <th>Clump Thickness</th>\n",
       "      <th>Uniformity of Cell Size</th>\n",
       "      <th>Uniformity of Cell Shape</th>\n",
       "      <th>Marginal Adhesion</th>\n",
       "      <th>Single Epithelial Cell Size</th>\n",
       "      <th>Bare Nuclei</th>\n",
       "      <th>Bland Chromatin</th>\n",
       "      <th>Normal Nucleoli</th>\n",
       "      <th>Mitoses</th>\n",
       "      <th>Class</th>\n",
       "    </tr>\n",
       "  </thead>\n",
       "  <tbody>\n",
       "    <tr>\n",
       "      <th>0</th>\n",
       "      <td>1000025</td>\n",
       "      <td>5</td>\n",
       "      <td>1</td>\n",
       "      <td>1</td>\n",
       "      <td>1</td>\n",
       "      <td>2</td>\n",
       "      <td>1</td>\n",
       "      <td>3</td>\n",
       "      <td>1</td>\n",
       "      <td>1</td>\n",
       "      <td>2</td>\n",
       "    </tr>\n",
       "    <tr>\n",
       "      <th>1</th>\n",
       "      <td>1002945</td>\n",
       "      <td>5</td>\n",
       "      <td>4</td>\n",
       "      <td>4</td>\n",
       "      <td>5</td>\n",
       "      <td>7</td>\n",
       "      <td>10</td>\n",
       "      <td>3</td>\n",
       "      <td>2</td>\n",
       "      <td>1</td>\n",
       "      <td>2</td>\n",
       "    </tr>\n",
       "    <tr>\n",
       "      <th>2</th>\n",
       "      <td>1015425</td>\n",
       "      <td>3</td>\n",
       "      <td>1</td>\n",
       "      <td>1</td>\n",
       "      <td>1</td>\n",
       "      <td>2</td>\n",
       "      <td>2</td>\n",
       "      <td>3</td>\n",
       "      <td>1</td>\n",
       "      <td>1</td>\n",
       "      <td>2</td>\n",
       "    </tr>\n",
       "    <tr>\n",
       "      <th>3</th>\n",
       "      <td>1016277</td>\n",
       "      <td>6</td>\n",
       "      <td>8</td>\n",
       "      <td>8</td>\n",
       "      <td>1</td>\n",
       "      <td>3</td>\n",
       "      <td>4</td>\n",
       "      <td>3</td>\n",
       "      <td>7</td>\n",
       "      <td>1</td>\n",
       "      <td>2</td>\n",
       "    </tr>\n",
       "    <tr>\n",
       "      <th>4</th>\n",
       "      <td>1017023</td>\n",
       "      <td>4</td>\n",
       "      <td>1</td>\n",
       "      <td>1</td>\n",
       "      <td>3</td>\n",
       "      <td>2</td>\n",
       "      <td>1</td>\n",
       "      <td>3</td>\n",
       "      <td>1</td>\n",
       "      <td>1</td>\n",
       "      <td>2</td>\n",
       "    </tr>\n",
       "  </tbody>\n",
       "</table>\n",
       "</div>"
      ],
      "text/plain": [
       "   Sample code number  Clump Thickness  Uniformity of Cell Size  \\\n",
       "0             1000025                5                        1   \n",
       "1             1002945                5                        4   \n",
       "2             1015425                3                        1   \n",
       "3             1016277                6                        8   \n",
       "4             1017023                4                        1   \n",
       "\n",
       "   Uniformity of Cell Shape  Marginal Adhesion  Single Epithelial Cell Size  \\\n",
       "0                         1                  1                            2   \n",
       "1                         4                  5                            7   \n",
       "2                         1                  1                            2   \n",
       "3                         8                  1                            3   \n",
       "4                         1                  3                            2   \n",
       "\n",
       "  Bare Nuclei  Bland Chromatin  Normal Nucleoli  Mitoses  Class  \n",
       "0           1                3                1        1      2  \n",
       "1          10                3                2        1      2  \n",
       "2           2                3                1        1      2  \n",
       "3           4                3                7        1      2  \n",
       "4           1                3                1        1      2  "
      ]
     },
     "execution_count": 2,
     "metadata": {},
     "output_type": "execute_result"
    }
   ],
   "source": [
    "# This breast cancer databases was obtained from the University of Wisconsin\n",
    "# Hospitals, Madison from Dr. William H. Wolberg. \n",
    "\n",
    "import pandas as pd\n",
    "\n",
    "url = 'http://archive.ics.uci.edu/ml/machine-learning-databases/breast-cancer-wisconsin/breast-cancer-wisconsin.data'\n",
    "names = ['Sample code number','Clump Thickness','Uniformity of Cell Size','Uniformity of Cell Shape',\n",
    "         'Marginal Adhesion', 'Single Epithelial Cell Size', 'Bare Nuclei', 'Bland Chromatin', 'Normal Nucleoli',\n",
    "         'Mitoses', 'Class']\n",
    "df = pd.read_csv(url, names = names)\n",
    "df.head()"
   ]
  },
  {
   "cell_type": "code",
   "execution_count": 3,
   "metadata": {},
   "outputs": [
    {
     "name": "stdout",
     "output_type": "stream",
     "text": [
      "Parse progress: |█████████████████████████████████████████████████████████| 100%\n",
      "Rows:699\n",
      "Cols:11\n",
      "\n",
      "\n"
     ]
    },
    {
     "data": {
      "text/html": [
       "<table>\n",
       "<thead>\n",
       "<tr><th>       </th><th>Sample code number  </th><th>Clump Thickness  </th><th>Uniformity of Cell Size  </th><th>Uniformity of Cell Shape  </th><th>Marginal Adhesion  </th><th>Single Epithelial Cell Size  </th><th>Bare Nuclei       </th><th>Bland Chromatin   </th><th>Normal Nucleoli   </th><th>Mitoses           </th><th>Class  </th></tr>\n",
       "</thead>\n",
       "<tbody>\n",
       "<tr><td>type   </td><td>int                 </td><td>int              </td><td>int                      </td><td>int                       </td><td>int                </td><td>int                          </td><td>int               </td><td>int               </td><td>int               </td><td>int               </td><td>enum   </td></tr>\n",
       "<tr><td>mins   </td><td>61634.0             </td><td>1.0              </td><td>1.0                      </td><td>1.0                       </td><td>1.0                </td><td>1.0                          </td><td>1.0               </td><td>1.0               </td><td>1.0               </td><td>1.0               </td><td>       </td></tr>\n",
       "<tr><td>mean   </td><td>1071704.0987124462  </td><td>4.417739628040058</td><td>3.1344778254649475       </td><td>3.207439198855506         </td><td>2.806866952789701  </td><td>3.2160228898426304           </td><td>3.5446559297218094</td><td>3.4377682403433494</td><td>2.8669527896995723</td><td>1.5894134477825477</td><td>       </td></tr>\n",
       "<tr><td>maxs   </td><td>13454352.0          </td><td>10.0             </td><td>10.0                     </td><td>10.0                      </td><td>10.0               </td><td>10.0                         </td><td>10.0              </td><td>10.0              </td><td>10.0              </td><td>10.0              </td><td>       </td></tr>\n",
       "<tr><td>sigma  </td><td>617095.7298192448   </td><td>2.815740658594933</td><td>3.0514591099542008       </td><td>2.9719127672157133        </td><td>2.855379239217023  </td><td>2.214299886649047            </td><td>3.643857160492912 </td><td>2.4383642523242512</td><td>3.0536338936127745</td><td>1.715077942506795 </td><td>       </td></tr>\n",
       "<tr><td>zeros  </td><td>0                   </td><td>0                </td><td>0                        </td><td>0                         </td><td>0                  </td><td>0                            </td><td>0                 </td><td>0                 </td><td>0                 </td><td>0                 </td><td>       </td></tr>\n",
       "<tr><td>missing</td><td>0                   </td><td>0                </td><td>0                        </td><td>0                         </td><td>0                  </td><td>0                            </td><td>16                </td><td>0                 </td><td>0                 </td><td>0                 </td><td>0      </td></tr>\n",
       "<tr><td>0      </td><td>1000025.0           </td><td>5.0              </td><td>1.0                      </td><td>1.0                       </td><td>1.0                </td><td>2.0                          </td><td>1.0               </td><td>3.0               </td><td>1.0               </td><td>1.0               </td><td>2      </td></tr>\n",
       "<tr><td>1      </td><td>1002945.0           </td><td>5.0              </td><td>4.0                      </td><td>4.0                       </td><td>5.0                </td><td>7.0                          </td><td>10.0              </td><td>3.0               </td><td>2.0               </td><td>1.0               </td><td>2      </td></tr>\n",
       "<tr><td>2      </td><td>1015425.0           </td><td>3.0              </td><td>1.0                      </td><td>1.0                       </td><td>1.0                </td><td>2.0                          </td><td>2.0               </td><td>3.0               </td><td>1.0               </td><td>1.0               </td><td>2      </td></tr>\n",
       "<tr><td>3      </td><td>1016277.0           </td><td>6.0              </td><td>8.0                      </td><td>8.0                       </td><td>1.0                </td><td>3.0                          </td><td>4.0               </td><td>3.0               </td><td>7.0               </td><td>1.0               </td><td>2      </td></tr>\n",
       "<tr><td>4      </td><td>1017023.0           </td><td>4.0              </td><td>1.0                      </td><td>1.0                       </td><td>3.0                </td><td>2.0                          </td><td>1.0               </td><td>3.0               </td><td>1.0               </td><td>1.0               </td><td>2      </td></tr>\n",
       "<tr><td>5      </td><td>1017122.0           </td><td>8.0              </td><td>10.0                     </td><td>10.0                      </td><td>8.0                </td><td>7.0                          </td><td>10.0              </td><td>9.0               </td><td>7.0               </td><td>1.0               </td><td>4      </td></tr>\n",
       "<tr><td>6      </td><td>1018099.0           </td><td>1.0              </td><td>1.0                      </td><td>1.0                       </td><td>1.0                </td><td>2.0                          </td><td>10.0              </td><td>3.0               </td><td>1.0               </td><td>1.0               </td><td>2      </td></tr>\n",
       "<tr><td>7      </td><td>1018561.0           </td><td>2.0              </td><td>1.0                      </td><td>2.0                       </td><td>1.0                </td><td>2.0                          </td><td>1.0               </td><td>3.0               </td><td>1.0               </td><td>1.0               </td><td>2      </td></tr>\n",
       "<tr><td>8      </td><td>1033078.0           </td><td>2.0              </td><td>1.0                      </td><td>1.0                       </td><td>1.0                </td><td>2.0                          </td><td>1.0               </td><td>1.0               </td><td>1.0               </td><td>5.0               </td><td>2      </td></tr>\n",
       "<tr><td>9      </td><td>1033078.0           </td><td>4.0              </td><td>2.0                      </td><td>1.0                       </td><td>1.0                </td><td>2.0                          </td><td>1.0               </td><td>2.0               </td><td>1.0               </td><td>1.0               </td><td>2      </td></tr>\n",
       "</tbody>\n",
       "</table>"
      ]
     },
     "metadata": {},
     "output_type": "display_data"
    }
   ],
   "source": [
    "# construct h2o dataframe:\n",
    "df_hex = h2o.H2OFrame(df, column_names = df.columns.tolist())\n",
    "df_hex['Class'] = df_hex['Class'].asfactor() # encode response variable\n",
    "df_hex.describe()"
   ]
  },
  {
   "cell_type": "code",
   "execution_count": 4,
   "metadata": {
    "collapsed": true
   },
   "outputs": [],
   "source": [
    "# predictor variables:\n",
    "x = ['Clump Thickness','Uniformity of Cell Size','Uniformity of Cell Shape','Marginal Adhesion', \n",
    "     'Single Epithelial Cell Size', 'Bare Nuclei', 'Bland Chromatin', 'Normal Nucleoli','Mitoses']\n",
    "# response:\n",
    "y = 'Class'"
   ]
  },
  {
   "cell_type": "code",
   "execution_count": 5,
   "metadata": {
    "collapsed": true
   },
   "outputs": [],
   "source": [
    "# split data into train and testing:\n",
    "train, test = df_hex.split_frame(ratios=[0.6], seed = 123)"
   ]
  },
  {
   "cell_type": "code",
   "execution_count": 6,
   "metadata": {},
   "outputs": [
    {
     "name": "stdout",
     "output_type": "stream",
     "text": [
      "drf Grid Build progress: |████████████████████████████████████████████████| 100%\n",
      "\n",
      "Grid Summary:\n",
      "\n"
     ]
    },
    {
     "data": {
      "text/html": [
       "<div style=\"overflow:auto\"><table style=\"width:50%\"><tr><td><b>Model Id</b></td>\n",
       "<td><b>number_of_trees</b></td>\n",
       "<td><b>number_of_internal_trees</b></td>\n",
       "<td><b>model_size_in_bytes</b></td>\n",
       "<td><b>min_depth</b></td>\n",
       "<td><b>max_depth</b></td>\n",
       "<td><b>mean_depth</b></td>\n",
       "<td><b>min_leaves</b></td>\n",
       "<td><b>max_leaves</b></td>\n",
       "<td><b>mean_leaves</b></td></tr>\n",
       "<tr><td>Grid_DRF_py_4_sid_8306_model_python_1508176779571_11750_model_6</td>\n",
       "<td>100.0</td>\n",
       "<td>100.0</td>\n",
       "<td>36539.0</td>\n",
       "<td>6.0</td>\n",
       "<td>14.0</td>\n",
       "<td>8.79</td>\n",
       "<td>15.0</td>\n",
       "<td>32.0</td>\n",
       "<td>23.31</td></tr>\n",
       "<tr><td>Grid_DRF_py_4_sid_8306_model_python_1508176779571_11750_model_3</td>\n",
       "<td>50.0</td>\n",
       "<td>50.0</td>\n",
       "<td>18220.0</td>\n",
       "<td>6.0</td>\n",
       "<td>11.0</td>\n",
       "<td>8.7</td>\n",
       "<td>15.0</td>\n",
       "<td>31.0</td>\n",
       "<td>23.24</td></tr>\n",
       "<tr><td>Grid_DRF_py_4_sid_8306_model_python_1508176779571_11750_model_7</td>\n",
       "<td>100.0</td>\n",
       "<td>100.0</td>\n",
       "<td>34439.0</td>\n",
       "<td>6.0</td>\n",
       "<td>13.0</td>\n",
       "<td>8.65</td>\n",
       "<td>15.0</td>\n",
       "<td>30.0</td>\n",
       "<td>21.71</td></tr>\n",
       "<tr><td>Grid_DRF_py_4_sid_8306_model_python_1508176779571_11750_model_8</td>\n",
       "<td>100.0</td>\n",
       "<td>100.0</td>\n",
       "<td>33136.0</td>\n",
       "<td>6.0</td>\n",
       "<td>11.0</td>\n",
       "<td>8.42</td>\n",
       "<td>14.0</td>\n",
       "<td>28.0</td>\n",
       "<td>20.69</td></tr>\n",
       "<tr><td>Grid_DRF_py_4_sid_8306_model_python_1508176779571_11750_model_5</td>\n",
       "<td>50.0</td>\n",
       "<td>50.0</td>\n",
       "<td>16451.0</td>\n",
       "<td>6.0</td>\n",
       "<td>11.0</td>\n",
       "<td>8.38</td>\n",
       "<td>14.0</td>\n",
       "<td>26.0</td>\n",
       "<td>20.52</td></tr>\n",
       "<tr><td>Grid_DRF_py_4_sid_8306_model_python_1508176779571_11750_model_4</td>\n",
       "<td>50.0</td>\n",
       "<td>50.0</td>\n",
       "<td>17295.0</td>\n",
       "<td>7.0</td>\n",
       "<td>13.0</td>\n",
       "<td>8.74</td>\n",
       "<td>16.0</td>\n",
       "<td>30.0</td>\n",
       "<td>21.84</td></tr>\n",
       "<tr><td>Grid_DRF_py_4_sid_8306_model_python_1508176779571_11750_model_2</td>\n",
       "<td>25.0</td>\n",
       "<td>25.0</td>\n",
       "<td>8386.0</td>\n",
       "<td>6.0</td>\n",
       "<td>11.0</td>\n",
       "<td>8.36</td>\n",
       "<td>16.0</td>\n",
       "<td>26.0</td>\n",
       "<td>21.08</td></tr>\n",
       "<tr><td>Grid_DRF_py_4_sid_8306_model_python_1508176779571_11750_model_0</td>\n",
       "<td>25.0</td>\n",
       "<td>25.0</td>\n",
       "<td>9325.0</td>\n",
       "<td>6.0</td>\n",
       "<td>11.0</td>\n",
       "<td>8.64</td>\n",
       "<td>17.0</td>\n",
       "<td>30.0</td>\n",
       "<td>23.96</td></tr>\n",
       "<tr><td>Grid_DRF_py_4_sid_8306_model_python_1508176779571_11750_model_1</td>\n",
       "<td>25.0</td>\n",
       "<td>25.0</td>\n",
       "<td>8825.0</td>\n",
       "<td>7.0</td>\n",
       "<td>13.0</td>\n",
       "<td>8.84</td>\n",
       "<td>16.0</td>\n",
       "<td>30.0</td>\n",
       "<td>22.48</td></tr></table></div>"
      ],
      "text/plain": [
       "Model Id                                                         number_of_trees    number_of_internal_trees    model_size_in_bytes    min_depth    max_depth    mean_depth    min_leaves    max_leaves    mean_leaves\n",
       "---------------------------------------------------------------  -----------------  --------------------------  ---------------------  -----------  -----------  ------------  ------------  ------------  -------------\n",
       "Grid_DRF_py_4_sid_8306_model_python_1508176779571_11750_model_6  100                100                         36539                  6            14           8.79          15            32            23.31\n",
       "Grid_DRF_py_4_sid_8306_model_python_1508176779571_11750_model_3  50                 50                          18220                  6            11           8.7           15            31            23.24\n",
       "Grid_DRF_py_4_sid_8306_model_python_1508176779571_11750_model_7  100                100                         34439                  6            13           8.65          15            30            21.71\n",
       "Grid_DRF_py_4_sid_8306_model_python_1508176779571_11750_model_8  100                100                         33136                  6            11           8.42          14            28            20.69\n",
       "Grid_DRF_py_4_sid_8306_model_python_1508176779571_11750_model_5  50                 50                          16451                  6            11           8.38          14            26            20.52\n",
       "Grid_DRF_py_4_sid_8306_model_python_1508176779571_11750_model_4  50                 50                          17295                  7            13           8.74          16            30            21.84\n",
       "Grid_DRF_py_4_sid_8306_model_python_1508176779571_11750_model_2  25                 25                          8386                   6            11           8.36          16            26            21.08\n",
       "Grid_DRF_py_4_sid_8306_model_python_1508176779571_11750_model_0  25                 25                          9325                   6            11           8.64          17            30            23.96\n",
       "Grid_DRF_py_4_sid_8306_model_python_1508176779571_11750_model_1  25                 25                          8825                   7            13           8.84          16            30            22.48"
      ]
     },
     "metadata": {},
     "output_type": "display_data"
    }
   ],
   "source": [
    "# hyperparameter search (random forest)\n",
    "from h2o.estimators import H2ORandomForestEstimator \n",
    "import h2o.grid\n",
    "\n",
    "grid_search = h2o.grid.H2OGridSearch(\n",
    "    H2ORandomForestEstimator(\n",
    "        nfolds = 5,\n",
    "        balance_classes = True,\n",
    "        seed = 123\n",
    "    ),\n",
    "    hyper_params ={\n",
    "        \"ntrees\": [25, 50, 100],\n",
    "        \"mtries\": [3, 4, 5],\n",
    "    }   \n",
    ")\n",
    "\n",
    "grid_search.train(x, y, train)\n",
    "grid_search.summary()"
   ]
  },
  {
   "cell_type": "code",
   "execution_count": 7,
   "metadata": {
    "collapsed": true
   },
   "outputs": [],
   "source": [
    "# sorted on the specified area under the ROC curve\n",
    "grid_sorted = grid_search.get_grid(sort_by='auc', decreasing=True)"
   ]
  },
  {
   "cell_type": "code",
   "execution_count": 8,
   "metadata": {},
   "outputs": [
    {
     "ename": "SyntaxError",
     "evalue": "Missing parentheses in call to 'print' (<ipython-input-8-e80177e34a75>, line 3)",
     "output_type": "error",
     "traceback": [
      "\u001b[0;36m  File \u001b[0;32m\"<ipython-input-8-e80177e34a75>\"\u001b[0;36m, line \u001b[0;32m3\u001b[0m\n\u001b[0;31m    print best_model\u001b[0m\n\u001b[0m                   ^\u001b[0m\n\u001b[0;31mSyntaxError\u001b[0m\u001b[0;31m:\u001b[0m Missing parentheses in call to 'print'\n"
     ]
    }
   ],
   "source": [
    "# get the best performing model:\n",
    "best_model = grid_sorted.models[0]\n",
    "print best_model "
   ]
  },
  {
   "cell_type": "code",
   "execution_count": null,
   "metadata": {
    "collapsed": true
   },
   "outputs": [],
   "source": [
    "# out-of-sample:\n",
    "performance = best_model.model_performance(test)\n",
    "print performance"
   ]
  },
  {
   "cell_type": "code",
   "execution_count": null,
   "metadata": {
    "collapsed": true
   },
   "outputs": [],
   "source": [
    "h2o.cluster().shutdown()"
   ]
  }
 ],
 "metadata": {
  "kernelspec": {
   "display_name": "Python 3",
   "language": "python",
   "name": "python3"
  },
  "language_info": {
   "codemirror_mode": {
    "name": "ipython",
    "version": 3
   },
   "file_extension": ".py",
   "mimetype": "text/x-python",
   "name": "python",
   "nbconvert_exporter": "python",
   "pygments_lexer": "ipython3",
   "version": "3.6.1"
  }
 },
 "nbformat": 4,
 "nbformat_minor": 2
}
