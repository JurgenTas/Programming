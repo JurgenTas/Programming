{
 "cells": [
  {
   "cell_type": "code",
   "execution_count": 1,
   "metadata": {
    "collapsed": false
   },
   "outputs": [
    {
     "data": {
      "text/html": [
       "<div>\n",
       "<table border=\"1\" class=\"dataframe\">\n",
       "  <thead>\n",
       "    <tr style=\"text-align: right;\">\n",
       "      <th></th>\n",
       "      <th>Test</th>\n",
       "    </tr>\n",
       "  </thead>\n",
       "  <tbody>\n",
       "    <tr>\n",
       "      <th>2017-03-31</th>\n",
       "      <td>0.361663</td>\n",
       "    </tr>\n",
       "    <tr>\n",
       "      <th>2017-06-30</th>\n",
       "      <td>-1.706275</td>\n",
       "    </tr>\n",
       "    <tr>\n",
       "      <th>2017-09-30</th>\n",
       "      <td>-0.343944</td>\n",
       "    </tr>\n",
       "    <tr>\n",
       "      <th>2017-12-31</th>\n",
       "      <td>-0.465031</td>\n",
       "    </tr>\n",
       "    <tr>\n",
       "      <th>2018-03-31</th>\n",
       "      <td>-1.331470</td>\n",
       "    </tr>\n",
       "  </tbody>\n",
       "</table>\n",
       "</div>"
      ],
      "text/plain": [
       "                Test\n",
       "2017-03-31  0.361663\n",
       "2017-06-30 -1.706275\n",
       "2017-09-30 -0.343944\n",
       "2017-12-31 -0.465031\n",
       "2018-03-31 -1.331470"
      ]
     },
     "execution_count": 1,
     "metadata": {},
     "output_type": "execute_result"
    }
   ],
   "source": [
    "import pandas as pd\n",
    "import numpy as np\n",
    "\n",
    "dates=pd.date_range('2017',periods = 16, freq = 'Q')\n",
    "sigma, mu = 1, 0\n",
    "dataseries=pd.Series(sigma * np.random.randn(16) + mu,index=dates)\n",
    "df=pd.DataFrame({'Test':dataseries})\n",
    "df.head()"
   ]
  },
  {
   "cell_type": "code",
   "execution_count": 2,
   "metadata": {
    "collapsed": false
   },
   "outputs": [],
   "source": [
    "s1 = df['Test']"
   ]
  },
  {
   "cell_type": "code",
   "execution_count": 3,
   "metadata": {
    "collapsed": false
   },
   "outputs": [],
   "source": [
    "def calculate_ratio(ts1, ts2):\n",
    "    '''\n",
    "    '''\n",
    "    return s1 / s2\n",
    "\n",
    "\n",
    "def calculate_difference(ts):\n",
    "    '''\n",
    "    '''\n",
    "    return ts - ts.shift(1)\n",
    "\n",
    "def calculate_transform(ts):\n",
    "    '''\n",
    "    '''\n",
    "    return ts / ts.shift(1) - 1\n",
    "\n",
    "def calculate_inverse_difference(ts, start): \n",
    "    '''\n",
    "    '''\n",
    "    vals = [start]*len(ts)  # init fixed size array\n",
    "    for i in range(1, len(ts)):\n",
    "        vals[i] = vals[i-1] + ts.iloc[i]\n",
    "    return pd.Series(vals, ts.index)\n",
    "\n",
    "def calculate_inverse_transform(ts, start): \n",
    "    '''\n",
    "    '''\n",
    "    vals = [start]*len(ts)  # init fixed size array\n",
    "    for i in range(1, len(ts)):\n",
    "        vals[i] = vals[i-1] * (1 + ts.iloc[i])\n",
    "    return pd.Series(vals, ts.index)\n",
    "\n",
    "\n",
    "def calculate_standarization(ts, mu, sigma): \n",
    "    '''\n",
    "    '''\n",
    "    return (ts - mu) / sigma  "
   ]
  },
  {
   "cell_type": "code",
   "execution_count": 4,
   "metadata": {
    "collapsed": false
   },
   "outputs": [],
   "source": [
    "s2 = calculate_difference(s1)\n",
    "start = s1.iloc[0]\n",
    "s3 = calculate_inverse_difference(s2, start)\n",
    "s4 = calculate_transform(s1)\n",
    "s5 = calculate_inverse_transform(s4, start)\n",
    "s6 = calculate_standarization(s1, mu, 0)"
   ]
  },
  {
   "cell_type": "code",
   "execution_count": 5,
   "metadata": {
    "collapsed": false
   },
   "outputs": [
    {
     "data": {
      "text/plain": [
       "2017-03-31    0.361663\n",
       "2017-06-30   -1.706275\n",
       "2017-09-30   -0.343944\n",
       "2017-12-31   -0.465031\n",
       "2018-03-31   -1.331470\n",
       "2018-06-30   -0.828993\n",
       "2018-09-30    1.156199\n",
       "2018-12-31   -0.759970\n",
       "2019-03-31    1.684245\n",
       "2019-06-30    0.436408\n",
       "2019-09-30    1.612366\n",
       "2019-12-31   -0.972930\n",
       "2020-03-31   -0.624794\n",
       "2020-06-30   -1.621668\n",
       "2020-09-30   -0.524856\n",
       "2020-12-31   -0.709843\n",
       "Freq: Q-DEC, Name: Test, dtype: float64"
      ]
     },
     "execution_count": 5,
     "metadata": {},
     "output_type": "execute_result"
    }
   ],
   "source": [
    "s1"
   ]
  },
  {
   "cell_type": "code",
   "execution_count": 6,
   "metadata": {
    "collapsed": false
   },
   "outputs": [
    {
     "data": {
      "text/plain": [
       "2017-03-31         NaN\n",
       "2017-06-30   -2.067938\n",
       "2017-09-30    1.362331\n",
       "2017-12-31   -0.121087\n",
       "2018-03-31   -0.866438\n",
       "2018-06-30    0.502476\n",
       "2018-09-30    1.985192\n",
       "2018-12-31   -1.916169\n",
       "2019-03-31    2.444215\n",
       "2019-06-30   -1.247837\n",
       "2019-09-30    1.175958\n",
       "2019-12-31   -2.585296\n",
       "2020-03-31    0.348136\n",
       "2020-06-30   -0.996875\n",
       "2020-09-30    1.096812\n",
       "2020-12-31   -0.184987\n",
       "Freq: Q-DEC, Name: Test, dtype: float64"
      ]
     },
     "execution_count": 6,
     "metadata": {},
     "output_type": "execute_result"
    }
   ],
   "source": [
    "s2"
   ]
  },
  {
   "cell_type": "code",
   "execution_count": 7,
   "metadata": {
    "collapsed": false
   },
   "outputs": [
    {
     "data": {
      "text/plain": [
       "2017-03-31    0.361663\n",
       "2017-06-30   -1.706275\n",
       "2017-09-30   -0.343944\n",
       "2017-12-31   -0.465031\n",
       "2018-03-31   -1.331470\n",
       "2018-06-30   -0.828993\n",
       "2018-09-30    1.156199\n",
       "2018-12-31   -0.759970\n",
       "2019-03-31    1.684245\n",
       "2019-06-30    0.436408\n",
       "2019-09-30    1.612366\n",
       "2019-12-31   -0.972930\n",
       "2020-03-31   -0.624794\n",
       "2020-06-30   -1.621668\n",
       "2020-09-30   -0.524856\n",
       "2020-12-31   -0.709843\n",
       "Freq: Q-DEC, dtype: float64"
      ]
     },
     "execution_count": 7,
     "metadata": {},
     "output_type": "execute_result"
    }
   ],
   "source": [
    "s3"
   ]
  },
  {
   "cell_type": "code",
   "execution_count": 8,
   "metadata": {
    "collapsed": false
   },
   "outputs": [
    {
     "data": {
      "text/plain": [
       "2017-03-31         NaN\n",
       "2017-06-30   -5.717864\n",
       "2017-09-30   -0.798424\n",
       "2017-12-31    0.352054\n",
       "2018-03-31    1.863183\n",
       "2018-06-30   -0.377385\n",
       "2018-09-30   -2.394702\n",
       "2018-12-31   -1.657300\n",
       "2019-03-31   -3.216200\n",
       "2019-06-30   -0.740888\n",
       "2019-09-30    2.694628\n",
       "2019-12-31   -1.603417\n",
       "2020-03-31   -0.357822\n",
       "2020-06-30    1.595526\n",
       "2020-09-30   -0.676348\n",
       "2020-12-31    0.352452\n",
       "Freq: Q-DEC, Name: Test, dtype: float64"
      ]
     },
     "execution_count": 8,
     "metadata": {},
     "output_type": "execute_result"
    }
   ],
   "source": [
    "s4"
   ]
  },
  {
   "cell_type": "code",
   "execution_count": 9,
   "metadata": {
    "collapsed": false
   },
   "outputs": [
    {
     "data": {
      "text/plain": [
       "2017-03-31    0.361663\n",
       "2017-06-30   -1.706275\n",
       "2017-09-30   -0.343944\n",
       "2017-12-31   -0.465031\n",
       "2018-03-31   -1.331470\n",
       "2018-06-30   -0.828993\n",
       "2018-09-30    1.156199\n",
       "2018-12-31   -0.759970\n",
       "2019-03-31    1.684245\n",
       "2019-06-30    0.436408\n",
       "2019-09-30    1.612366\n",
       "2019-12-31   -0.972930\n",
       "2020-03-31   -0.624794\n",
       "2020-06-30   -1.621668\n",
       "2020-09-30   -0.524856\n",
       "2020-12-31   -0.709843\n",
       "Freq: Q-DEC, dtype: float64"
      ]
     },
     "execution_count": 9,
     "metadata": {},
     "output_type": "execute_result"
    }
   ],
   "source": [
    "s5"
   ]
  },
  {
   "cell_type": "code",
   "execution_count": 10,
   "metadata": {
    "collapsed": false
   },
   "outputs": [
    {
     "data": {
      "text/plain": [
       "2017-03-31    inf\n",
       "2017-06-30   -inf\n",
       "2017-09-30   -inf\n",
       "2017-12-31   -inf\n",
       "2018-03-31   -inf\n",
       "2018-06-30   -inf\n",
       "2018-09-30    inf\n",
       "2018-12-31   -inf\n",
       "2019-03-31    inf\n",
       "2019-06-30    inf\n",
       "2019-09-30    inf\n",
       "2019-12-31   -inf\n",
       "2020-03-31   -inf\n",
       "2020-06-30   -inf\n",
       "2020-09-30   -inf\n",
       "2020-12-31   -inf\n",
       "Freq: Q-DEC, Name: Test, dtype: float64"
      ]
     },
     "execution_count": 10,
     "metadata": {},
     "output_type": "execute_result"
    }
   ],
   "source": [
    "s6"
   ]
  },
  {
   "cell_type": "code",
   "execution_count": 11,
   "metadata": {
    "collapsed": false
   },
   "outputs": [
    {
     "data": {
      "text/plain": [
       "2017-03-31    0.361663\n",
       "2017-06-30   -1.706275\n",
       "2017-09-30   -0.343944\n",
       "2017-12-31   -0.465031\n",
       "2018-03-31   -1.331470\n",
       "2018-06-30   -0.828993\n",
       "2018-09-30    1.156199\n",
       "2018-12-31   -0.759970\n",
       "2019-03-31    1.684245\n",
       "2019-06-30    0.436408\n",
       "2019-09-30    1.612366\n",
       "2019-12-31   -0.972930\n",
       "2020-03-31   -0.624794\n",
       "2020-06-30   -1.621668\n",
       "2020-09-30   -0.524856\n",
       "2020-12-31   -0.709843\n",
       "Freq: Q-DEC, Name: Test, dtype: float64"
      ]
     },
     "execution_count": 11,
     "metadata": {},
     "output_type": "execute_result"
    }
   ],
   "source": [
    "s1"
   ]
  },
  {
   "cell_type": "code",
   "execution_count": 12,
   "metadata": {
    "collapsed": false
   },
   "outputs": [
    {
     "data": {
      "text/html": [
       "<div>\n",
       "<table border=\"1\" class=\"dataframe\">\n",
       "  <thead>\n",
       "    <tr style=\"text-align: right;\">\n",
       "      <th></th>\n",
       "      <th>Test</th>\n",
       "      <th>Type</th>\n",
       "    </tr>\n",
       "  </thead>\n",
       "  <tbody>\n",
       "    <tr>\n",
       "      <th>2017-03-31</th>\n",
       "      <td>1</td>\n",
       "      <td>0</td>\n",
       "    </tr>\n",
       "    <tr>\n",
       "      <th>2017-06-30</th>\n",
       "      <td>2</td>\n",
       "      <td>0</td>\n",
       "    </tr>\n",
       "    <tr>\n",
       "      <th>2017-09-30</th>\n",
       "      <td>3</td>\n",
       "      <td>0</td>\n",
       "    </tr>\n",
       "    <tr>\n",
       "      <th>2017-12-31</th>\n",
       "      <td>4</td>\n",
       "      <td>0</td>\n",
       "    </tr>\n",
       "    <tr>\n",
       "      <th>2018-03-31</th>\n",
       "      <td>5</td>\n",
       "      <td>1</td>\n",
       "    </tr>\n",
       "    <tr>\n",
       "      <th>2018-06-30</th>\n",
       "      <td>6</td>\n",
       "      <td>1</td>\n",
       "    </tr>\n",
       "    <tr>\n",
       "      <th>2018-09-30</th>\n",
       "      <td>7</td>\n",
       "      <td>1</td>\n",
       "    </tr>\n",
       "    <tr>\n",
       "      <th>2018-12-31</th>\n",
       "      <td>8</td>\n",
       "      <td>1</td>\n",
       "    </tr>\n",
       "    <tr>\n",
       "      <th>2019-03-31</th>\n",
       "      <td>9</td>\n",
       "      <td>1</td>\n",
       "    </tr>\n",
       "    <tr>\n",
       "      <th>2019-06-30</th>\n",
       "      <td>10</td>\n",
       "      <td>1</td>\n",
       "    </tr>\n",
       "    <tr>\n",
       "      <th>2019-09-30</th>\n",
       "      <td>11</td>\n",
       "      <td>1</td>\n",
       "    </tr>\n",
       "    <tr>\n",
       "      <th>2019-12-31</th>\n",
       "      <td>12</td>\n",
       "      <td>1</td>\n",
       "    </tr>\n",
       "    <tr>\n",
       "      <th>2020-03-31</th>\n",
       "      <td>13</td>\n",
       "      <td>1</td>\n",
       "    </tr>\n",
       "    <tr>\n",
       "      <th>2020-06-30</th>\n",
       "      <td>14</td>\n",
       "      <td>1</td>\n",
       "    </tr>\n",
       "    <tr>\n",
       "      <th>2020-09-30</th>\n",
       "      <td>15</td>\n",
       "      <td>1</td>\n",
       "    </tr>\n",
       "    <tr>\n",
       "      <th>2020-12-31</th>\n",
       "      <td>16</td>\n",
       "      <td>1</td>\n",
       "    </tr>\n",
       "  </tbody>\n",
       "</table>\n",
       "</div>"
      ],
      "text/plain": [
       "            Test  Type\n",
       "2017-03-31     1     0\n",
       "2017-06-30     2     0\n",
       "2017-09-30     3     0\n",
       "2017-12-31     4     0\n",
       "2018-03-31     5     1\n",
       "2018-06-30     6     1\n",
       "2018-09-30     7     1\n",
       "2018-12-31     8     1\n",
       "2019-03-31     9     1\n",
       "2019-06-30    10     1\n",
       "2019-09-30    11     1\n",
       "2019-12-31    12     1\n",
       "2020-03-31    13     1\n",
       "2020-06-30    14     1\n",
       "2020-09-30    15     1\n",
       "2020-12-31    16     1"
      ]
     },
     "execution_count": 12,
     "metadata": {},
     "output_type": "execute_result"
    }
   ],
   "source": [
    "dates=pd.date_range('2017',periods = 16, freq = 'Q')\n",
    "sigma, mu = 1, 0\n",
    "dataseries=pd.Series([1, 2, 3, 4, 5, 6, 7, 8, 9, 10, 11, 12, 13, 14, 15, 16],index=dates)\n",
    "df=pd.DataFrame({'Test':dataseries})\n",
    "df['Type'] = [0, 0, 0, 0, 1, 1, 1, 1, 1, 1, 1, 1, 1, 1, 1, 1]\n",
    "df"
   ]
  },
  {
   "cell_type": "code",
   "execution_count": 13,
   "metadata": {
    "collapsed": false
   },
   "outputs": [
    {
     "data": {
      "text/plain": [
       "2017-12-31    10\n",
       "2018-12-31    26\n",
       "2019-12-31    42\n",
       "2020-12-31    58\n",
       "Freq: A-DEC, Name: Test, dtype: int64"
      ]
     },
     "execution_count": 13,
     "metadata": {},
     "output_type": "execute_result"
    }
   ],
   "source": [
    "# Q4 base:\n",
    "series = df['Test']\n",
    "s = series.resample('A-DEC').sum()[0:]\n",
    "s"
   ]
  },
  {
   "cell_type": "code",
   "execution_count": 14,
   "metadata": {
    "collapsed": false
   },
   "outputs": [
    {
     "data": {
      "text/plain": [
       "2017-12-31     2.5\n",
       "2018-12-31     6.5\n",
       "2019-12-31    10.5\n",
       "2020-12-31    14.5\n",
       "Freq: A-DEC, Name: Test, dtype: float64"
      ]
     },
     "execution_count": 14,
     "metadata": {},
     "output_type": "execute_result"
    }
   ],
   "source": [
    "# Q4 base:\n",
    "series = df['Test']\n",
    "s = series.resample('A-DEC').mean()[0:]\n",
    "s"
   ]
  },
  {
   "cell_type": "code",
   "execution_count": 15,
   "metadata": {
    "collapsed": false
   },
   "outputs": [
    {
     "data": {
      "text/plain": [
       "2018-03-31    14\n",
       "2019-03-31    30\n",
       "2020-03-31    46\n",
       "Freq: A-MAR, Name: Test, dtype: int64"
      ]
     },
     "execution_count": 15,
     "metadata": {},
     "output_type": "execute_result"
    }
   ],
   "source": [
    "# Q1 base:\n",
    "series = df['Test']\n",
    "s = series.resample('A-MAR').sum()[1:-1]\n",
    "s"
   ]
  },
  {
   "cell_type": "code",
   "execution_count": 16,
   "metadata": {
    "collapsed": false
   },
   "outputs": [
    {
     "data": {
      "text/plain": [
       "2017-12-31     2.5\n",
       "2018-12-31     6.5\n",
       "2019-12-31    10.5\n",
       "2020-12-31    14.5\n",
       "Freq: A-DEC, Name: Test, dtype: float64"
      ]
     },
     "execution_count": 16,
     "metadata": {},
     "output_type": "execute_result"
    }
   ],
   "source": [
    "# Q4 base:\n",
    "s0 = df['Test']\n",
    "dates = series.index\n",
    "s1  = series.resample('A-DEC').mean()\n",
    "s1"
   ]
  },
  {
   "cell_type": "code",
   "execution_count": 17,
   "metadata": {
    "collapsed": false
   },
   "outputs": [
    {
     "data": {
      "text/plain": [
       "2018-03-31     6.5\n",
       "2018-06-30     6.5\n",
       "2018-09-30     6.5\n",
       "2018-12-31     6.5\n",
       "2019-03-31    10.5\n",
       "2019-06-30    10.5\n",
       "2019-09-30    10.5\n",
       "2019-12-31    10.5\n",
       "2020-03-31    14.5\n",
       "2020-06-30    14.5\n",
       "2020-09-30    14.5\n",
       "2020-12-31    14.5\n",
       "Freq: Q-DEC, Name: Test, dtype: float64"
      ]
     },
     "execution_count": 17,
     "metadata": {},
     "output_type": "execute_result"
    }
   ],
   "source": [
    "s2 = s1.resample('Q').bfill()\n",
    "s2 = s2[s2.index.year >= 2018]\n",
    "s2"
   ]
  },
  {
   "cell_type": "code",
   "execution_count": null,
   "metadata": {
    "collapsed": true
   },
   "outputs": [],
   "source": []
  }
 ],
 "metadata": {
  "anaconda-cloud": {},
  "kernelspec": {
   "display_name": "Python [conda root]",
   "language": "python",
   "name": "conda-root-py"
  },
  "language_info": {
   "codemirror_mode": {
    "name": "ipython",
    "version": 2
   },
   "file_extension": ".py",
   "mimetype": "text/x-python",
   "name": "python",
   "nbconvert_exporter": "python",
   "pygments_lexer": "ipython2",
   "version": "2.7.12"
  }
 },
 "nbformat": 4,
 "nbformat_minor": 1
}
