{
 "cells": [
  {
   "cell_type": "code",
   "execution_count": 1,
   "metadata": {
    "collapsed": false
   },
   "outputs": [
    {
     "data": {
      "text/html": [
       "<div>\n",
       "<table border=\"1\" class=\"dataframe\">\n",
       "  <thead>\n",
       "    <tr style=\"text-align: right;\">\n",
       "      <th></th>\n",
       "      <th>Test</th>\n",
       "    </tr>\n",
       "  </thead>\n",
       "  <tbody>\n",
       "    <tr>\n",
       "      <th>2017-03-31</th>\n",
       "      <td>-0.045148</td>\n",
       "    </tr>\n",
       "    <tr>\n",
       "      <th>2017-06-30</th>\n",
       "      <td>-2.238423</td>\n",
       "    </tr>\n",
       "    <tr>\n",
       "      <th>2017-09-30</th>\n",
       "      <td>-0.604435</td>\n",
       "    </tr>\n",
       "    <tr>\n",
       "      <th>2017-12-31</th>\n",
       "      <td>-0.847109</td>\n",
       "    </tr>\n",
       "    <tr>\n",
       "      <th>2018-03-31</th>\n",
       "      <td>0.620263</td>\n",
       "    </tr>\n",
       "  </tbody>\n",
       "</table>\n",
       "</div>"
      ],
      "text/plain": [
       "                Test\n",
       "2017-03-31 -0.045148\n",
       "2017-06-30 -2.238423\n",
       "2017-09-30 -0.604435\n",
       "2017-12-31 -0.847109\n",
       "2018-03-31  0.620263"
      ]
     },
     "execution_count": 1,
     "metadata": {},
     "output_type": "execute_result"
    }
   ],
   "source": [
    "import pandas as pd\n",
    "import numpy as np\n",
    "\n",
    "dates=pd.date_range('2017',periods = 16, freq = 'Q')\n",
    "sigma, mu = 1, 0\n",
    "dataseries=pd.Series(sigma * np.random.randn(16) + mu,index=dates)\n",
    "df=pd.DataFrame({'Test':dataseries})\n",
    "df.head()"
   ]
  },
  {
   "cell_type": "code",
   "execution_count": 2,
   "metadata": {
    "collapsed": false
   },
   "outputs": [],
   "source": [
    "s1 = df['Test']"
   ]
  },
  {
   "cell_type": "code",
   "execution_count": 3,
   "metadata": {
    "collapsed": false
   },
   "outputs": [],
   "source": [
    "def calculate_ratio(ts1, ts2):\n",
    "    '''\n",
    "    '''\n",
    "    return s1 / s2\n",
    "\n",
    "\n",
    "def calculate_difference(ts):\n",
    "    '''\n",
    "    '''\n",
    "    return ts - ts.shift(1)\n",
    "\n",
    "def calculate_transform(ts):\n",
    "    '''\n",
    "    '''\n",
    "    return ts / ts.shift(1) - 1\n",
    "\n",
    "def calculate_inverse_difference(ts, start): \n",
    "    '''\n",
    "    '''\n",
    "    vals = [start]*len(ts)  # init fixed size array\n",
    "    for i in range(1, len(ts)):\n",
    "        vals[i] = vals[i-1] + ts.iloc[i]\n",
    "    return pd.Series(vals, ts.index)\n",
    "\n",
    "def calculate_inverse_transform(ts, start): \n",
    "    '''\n",
    "    '''\n",
    "    vals = [start]*len(ts)  # init fixed size array\n",
    "    for i in range(1, len(ts)):\n",
    "        vals[i] = vals[i-1] * (1 + ts.iloc[i])\n",
    "    return pd.Series(vals, ts.index)\n",
    "\n",
    "\n",
    "def calculate_standarization(ts, mu, sigma): \n",
    "    '''\n",
    "    '''\n",
    "    return (ts - mu) / sigma \n",
    "\n",
    "def calculate_real_interest_rate(rate_series, inflation_series, lag=1):\n",
    "    \"\"\"\n",
    "    Computes the real (3 month) interest rate\n",
    "    :param rate_series: Pandas time series1 3 month interest rates\n",
    "    :param inflation_series: Pandas time series1 3 month interest rates\n",
    "    :param lag: time lag (use 1 for yearly data, use 4 for quarterly data)\n",
    "    :return: time series1 for real (3 month) interest rate\n",
    "    \"\"\"\n",
    "    return rate_series - 100 * (inflation_series / inflation_series.shift(lag) - 1)\n",
    "\n",
    "def _sample_to_yearly(series, aggregation_type):\n",
    "    \"\"\"\n",
    "    Aggregate to yearly Q4 data.\n",
    "    :param series: time series with quarterly data\n",
    "    :param aggregation_type: \n",
    "    :return: time series with yearly (year-end) data\n",
    "    \"\"\"\n",
    "    if aggregation_type == 'AVG':\n",
    "        result = series.resample('A-DEC').mean()\n",
    "        return result\n",
    "    else:\n",
    "        result = 4 * series.resample('A-DEC').mean()\n",
    "        return result\n",
    "\n",
    "\n",
    "def _sample_to_quarterly(series, aggregation_type):\n",
    "    \"\"\"\n",
    "    Aggregate to yearly data to quarterly data.\n",
    "    :param series: time series with yearly (year-end) data\n",
    "    :param aggregation_type: \n",
    "    :return: time series with quarterly data\n",
    "    \"\"\"\n",
    "    if aggregation_type == 'AVG':\n",
    "        result = series.resample('Q').bfill()\n",
    "        return result\n",
    "    else:\n",
    "        result = series.resample('Q').bfill() / 4\n",
    "        return result\n",
    "\n",
    "\n",
    "def _transform_yearly(series, transformation_type):\n",
    "    \"\"\"\n",
    "    Transform to correct unit for extension.\n",
    "    :param series: time series with yearly data\n",
    "    :param transformation_type:\n",
    "    :return: time series expressed in YOY (or Y-Y) unit\n",
    "    \"\"\"\n",
    "    if transformation_type == 'YOY':\n",
    "        result = calculate_transform(series)\n",
    "        return result\n",
    "    else:\n",
    "        result = calculate_difference(series)\n",
    "        return result\n",
    "\n",
    "def _inverse_transform_yearly(time_series, transformation_type, start):\n",
    "    \"\"\"\n",
    "    Transform from YOY (or Y-Y) to ABS unit.\n",
    "    :param time_series: time series YOY (or Y-Y) unit\n",
    "    :param transformation_type:\n",
    "    :return: time series expressed in ABS unit\n",
    "    \"\"\"\n",
    "    if transformation_type == 'YOY':\n",
    "        result = calculate_inverse_transform(time_series, start)\n",
    "        return result\n",
    "    else:\n",
    "        result = calculate_inverse_difference(time_series, start)\n",
    "        return result\n",
    "\n",
    "def extend_time_series(series, aggregation_type, transformation_type, end):\n",
    "    \"\"\"\n",
    "    :param series: \n",
    "    :param aggregation_type: \n",
    "    :param transformation_type: \n",
    "    :param end: \n",
    "    :return: \n",
    "    \"\"\"\n",
    "    val0 = series.iloc[0]\n",
    "    start = series.index[-1].year + 1\n",
    "    \n",
    "    index = pd.date_range(str(start), end, freq=\"A\")\n",
    "    \n",
    "\n",
    "    transformed_series = _sample_to_yearly(series, aggregation_type)\n",
    "    transformed_series = _transform_yearly(transformed_series, transformation_type)\n",
    "    \n",
    "    val1 = transformed_series[len(transformed_series)-1]\n",
    "    val2 = transformed_series[len(transformed_series)-2]\n",
    "    \n",
    "    for time_stamp in index:  # start forecasting using index\n",
    "        tmp = 0\n",
    "        transformed_series[time_stamp] = tmp\n",
    "        val2 = val1\n",
    "        val1 = tmp\n",
    "    print(transformed_series)\n",
    "    extended_series = transformed_series[transformed_series.index.year >= start]\n",
    "    extended_series = _inverse_transform_yearly(extended_series, transformation_type, val0)\n",
    "    extended_series = _sample_to_quarterly(extended_series, aggregation_type)\n",
    "    result = series.append(extended_series)\n",
    "    \n",
    "    return result"
   ]
  },
  {
   "cell_type": "code",
   "execution_count": 4,
   "metadata": {
    "collapsed": false
   },
   "outputs": [
    {
     "name": "stdout",
     "output_type": "stream",
     "text": [
      "2017-12-31         NaN\n",
      "2018-12-31   -1.276242\n",
      "2019-12-31    3.360258\n",
      "2020-12-31   -1.060521\n",
      "2021-12-31    0.000000\n",
      "2022-12-31    0.000000\n",
      "2023-12-31    0.000000\n",
      "2024-12-31    0.000000\n",
      "Freq: A-DEC, Name: Test, dtype: float64\n"
     ]
    }
   ],
   "source": [
    "s3 = extend_time_series(s1, \"AVG\", \"YOY\", \"2024-12-31\")"
   ]
  },
  {
   "cell_type": "code",
   "execution_count": 5,
   "metadata": {
    "collapsed": false
   },
   "outputs": [
    {
     "data": {
      "text/plain": [
       "2017-03-31   -0.045148\n",
       "2017-06-30   -2.238423\n",
       "2017-09-30   -0.604435\n",
       "2017-12-31   -0.847109\n",
       "2018-03-31    0.620263\n",
       "2018-06-30   -0.477740\n",
       "2018-09-30    0.495459\n",
       "2018-12-31    0.393814\n",
       "2019-03-31    0.853319\n",
       "2019-06-30   -0.803102\n",
       "2019-09-30    2.856356\n",
       "2019-12-31    1.592323\n",
       "2020-03-31    0.155420\n",
       "2020-06-30    0.435142\n",
       "2020-09-30   -0.152267\n",
       "2020-12-31   -0.710572\n",
       "2021-12-31   -0.045148\n",
       "2022-03-31   -0.045148\n",
       "2022-06-30   -0.045148\n",
       "2022-09-30   -0.045148\n",
       "2022-12-31   -0.045148\n",
       "2023-03-31   -0.045148\n",
       "2023-06-30   -0.045148\n",
       "2023-09-30   -0.045148\n",
       "2023-12-31   -0.045148\n",
       "2024-03-31   -0.045148\n",
       "2024-06-30   -0.045148\n",
       "2024-09-30   -0.045148\n",
       "2024-12-31   -0.045148\n",
       "dtype: float64"
      ]
     },
     "execution_count": 5,
     "metadata": {},
     "output_type": "execute_result"
    }
   ],
   "source": [
    "s3"
   ]
  },
  {
   "cell_type": "code",
   "execution_count": 6,
   "metadata": {
    "collapsed": false
   },
   "outputs": [
    {
     "data": {
      "text/html": [
       "<div>\n",
       "<table border=\"1\" class=\"dataframe\">\n",
       "  <thead>\n",
       "    <tr style=\"text-align: right;\">\n",
       "      <th></th>\n",
       "      <th>Test</th>\n",
       "      <th>Type</th>\n",
       "    </tr>\n",
       "  </thead>\n",
       "  <tbody>\n",
       "    <tr>\n",
       "      <th>2017-03-31</th>\n",
       "      <td>1</td>\n",
       "      <td>0</td>\n",
       "    </tr>\n",
       "    <tr>\n",
       "      <th>2017-06-30</th>\n",
       "      <td>2</td>\n",
       "      <td>0</td>\n",
       "    </tr>\n",
       "    <tr>\n",
       "      <th>2017-09-30</th>\n",
       "      <td>3</td>\n",
       "      <td>0</td>\n",
       "    </tr>\n",
       "    <tr>\n",
       "      <th>2017-12-31</th>\n",
       "      <td>4</td>\n",
       "      <td>0</td>\n",
       "    </tr>\n",
       "    <tr>\n",
       "      <th>2018-03-31</th>\n",
       "      <td>5</td>\n",
       "      <td>1</td>\n",
       "    </tr>\n",
       "    <tr>\n",
       "      <th>2018-06-30</th>\n",
       "      <td>6</td>\n",
       "      <td>1</td>\n",
       "    </tr>\n",
       "    <tr>\n",
       "      <th>2018-09-30</th>\n",
       "      <td>7</td>\n",
       "      <td>1</td>\n",
       "    </tr>\n",
       "    <tr>\n",
       "      <th>2018-12-31</th>\n",
       "      <td>8</td>\n",
       "      <td>1</td>\n",
       "    </tr>\n",
       "    <tr>\n",
       "      <th>2019-03-31</th>\n",
       "      <td>9</td>\n",
       "      <td>1</td>\n",
       "    </tr>\n",
       "    <tr>\n",
       "      <th>2019-06-30</th>\n",
       "      <td>10</td>\n",
       "      <td>1</td>\n",
       "    </tr>\n",
       "    <tr>\n",
       "      <th>2019-09-30</th>\n",
       "      <td>11</td>\n",
       "      <td>1</td>\n",
       "    </tr>\n",
       "    <tr>\n",
       "      <th>2019-12-31</th>\n",
       "      <td>12</td>\n",
       "      <td>1</td>\n",
       "    </tr>\n",
       "    <tr>\n",
       "      <th>2020-03-31</th>\n",
       "      <td>13</td>\n",
       "      <td>1</td>\n",
       "    </tr>\n",
       "    <tr>\n",
       "      <th>2020-06-30</th>\n",
       "      <td>14</td>\n",
       "      <td>1</td>\n",
       "    </tr>\n",
       "    <tr>\n",
       "      <th>2020-09-30</th>\n",
       "      <td>15</td>\n",
       "      <td>1</td>\n",
       "    </tr>\n",
       "    <tr>\n",
       "      <th>2020-12-31</th>\n",
       "      <td>16</td>\n",
       "      <td>1</td>\n",
       "    </tr>\n",
       "  </tbody>\n",
       "</table>\n",
       "</div>"
      ],
      "text/plain": [
       "            Test  Type\n",
       "2017-03-31     1     0\n",
       "2017-06-30     2     0\n",
       "2017-09-30     3     0\n",
       "2017-12-31     4     0\n",
       "2018-03-31     5     1\n",
       "2018-06-30     6     1\n",
       "2018-09-30     7     1\n",
       "2018-12-31     8     1\n",
       "2019-03-31     9     1\n",
       "2019-06-30    10     1\n",
       "2019-09-30    11     1\n",
       "2019-12-31    12     1\n",
       "2020-03-31    13     1\n",
       "2020-06-30    14     1\n",
       "2020-09-30    15     1\n",
       "2020-12-31    16     1"
      ]
     },
     "execution_count": 6,
     "metadata": {},
     "output_type": "execute_result"
    }
   ],
   "source": [
    "dates=pd.date_range('2017',periods = 16, freq = 'Q')\n",
    "sigma, mu = 1, 0\n",
    "dataseries=pd.Series([1, 2, 3, 4, 5, 6, 7, 8, 9, 10, 11, 12, 13, 14, 15, 16],index=dates)\n",
    "df=pd.DataFrame({'Test':dataseries})\n",
    "df['Type'] = [0, 0, 0, 0, 1, 1, 1, 1, 1, 1, 1, 1, 1, 1, 1, 1]\n",
    "df"
   ]
  },
  {
   "cell_type": "code",
   "execution_count": 7,
   "metadata": {
    "collapsed": false
   },
   "outputs": [
    {
     "data": {
      "text/plain": [
       "2017-12-31    10\n",
       "2018-12-31    26\n",
       "2019-12-31    42\n",
       "2020-12-31    58\n",
       "Freq: A-DEC, Name: Test, dtype: int64"
      ]
     },
     "execution_count": 7,
     "metadata": {},
     "output_type": "execute_result"
    }
   ],
   "source": [
    "# Q4 base:\n",
    "series = df['Test']\n",
    "s = series.resample('A-DEC').sum()[0:]\n",
    "s"
   ]
  },
  {
   "cell_type": "code",
   "execution_count": 8,
   "metadata": {
    "collapsed": false
   },
   "outputs": [
    {
     "data": {
      "text/plain": [
       "2017-12-31     2.5\n",
       "2018-12-31     6.5\n",
       "2019-12-31    10.5\n",
       "2020-12-31    14.5\n",
       "Freq: A-DEC, Name: Test, dtype: float64"
      ]
     },
     "execution_count": 8,
     "metadata": {},
     "output_type": "execute_result"
    }
   ],
   "source": [
    "# Q4 base:\n",
    "series = df['Test']\n",
    "s = series.resample('A-DEC').mean()[0:]\n",
    "s"
   ]
  },
  {
   "cell_type": "code",
   "execution_count": 9,
   "metadata": {
    "collapsed": false
   },
   "outputs": [
    {
     "data": {
      "text/plain": [
       "2018-03-31    14\n",
       "2019-03-31    30\n",
       "2020-03-31    46\n",
       "Freq: A-MAR, Name: Test, dtype: int64"
      ]
     },
     "execution_count": 9,
     "metadata": {},
     "output_type": "execute_result"
    }
   ],
   "source": [
    "# Q1 base:\n",
    "series = df['Test']\n",
    "s = series.resample('A-MAR').sum()[1:-1]\n",
    "s"
   ]
  },
  {
   "cell_type": "code",
   "execution_count": 10,
   "metadata": {
    "collapsed": false
   },
   "outputs": [
    {
     "data": {
      "text/plain": [
       "2017-12-31     2.5\n",
       "2018-12-31     6.5\n",
       "2019-12-31    10.5\n",
       "2020-12-31    14.5\n",
       "Freq: A-DEC, Name: Test, dtype: float64"
      ]
     },
     "execution_count": 10,
     "metadata": {},
     "output_type": "execute_result"
    }
   ],
   "source": [
    "# Q4 base:\n",
    "s0 = df['Test']\n",
    "dates = series.index\n",
    "s1  = series.resample('A-DEC').mean()\n",
    "s1"
   ]
  },
  {
   "cell_type": "code",
   "execution_count": 11,
   "metadata": {
    "collapsed": false
   },
   "outputs": [
    {
     "data": {
      "text/plain": [
       "2018-03-31     6.5\n",
       "2018-06-30     6.5\n",
       "2018-09-30     6.5\n",
       "2018-12-31     6.5\n",
       "2019-03-31    10.5\n",
       "2019-06-30    10.5\n",
       "2019-09-30    10.5\n",
       "2019-12-31    10.5\n",
       "2020-03-31    14.5\n",
       "2020-06-30    14.5\n",
       "2020-09-30    14.5\n",
       "2020-12-31    14.5\n",
       "Freq: Q-DEC, Name: Test, dtype: float64"
      ]
     },
     "execution_count": 11,
     "metadata": {},
     "output_type": "execute_result"
    }
   ],
   "source": [
    "s2 = s1.resample('Q').bfill()\n",
    "s2 = s2[s2.index.year >= 2018]\n",
    "s2"
   ]
  },
  {
   "cell_type": "code",
   "execution_count": 12,
   "metadata": {
    "collapsed": false
   },
   "outputs": [
    {
     "data": {
      "text/plain": [
       "DatetimeIndex(['2015-12-31', '2016-12-31'], dtype='datetime64[ns]', freq='A-DEC')"
      ]
     },
     "execution_count": 12,
     "metadata": {},
     "output_type": "execute_result"
    }
   ],
   "source": [
    "import pandas as pd\n",
    "pd.date_range(\"2015\", \"2017\", freq=\"A\")"
   ]
  },
  {
   "cell_type": "code",
   "execution_count": 13,
   "metadata": {
    "collapsed": false
   },
   "outputs": [
    {
     "data": {
      "text/plain": [
       "14.5"
      ]
     },
     "execution_count": 13,
     "metadata": {},
     "output_type": "execute_result"
    }
   ],
   "source": [
    "s2[-1]"
   ]
  },
  {
   "cell_type": "code",
   "execution_count": 14,
   "metadata": {
    "collapsed": false
   },
   "outputs": [
    {
     "data": {
      "text/plain": [
       "6.5"
      ]
     },
     "execution_count": 14,
     "metadata": {},
     "output_type": "execute_result"
    }
   ],
   "source": [
    "s2[0]"
   ]
  },
  {
   "cell_type": "code",
   "execution_count": 15,
   "metadata": {
    "collapsed": false
   },
   "outputs": [
    {
     "data": {
      "text/plain": [
       "2020"
      ]
     },
     "execution_count": 15,
     "metadata": {},
     "output_type": "execute_result"
    }
   ],
   "source": [
    "s2.index[-1].year"
   ]
  },
  {
   "cell_type": "code",
   "execution_count": 16,
   "metadata": {
    "collapsed": false
   },
   "outputs": [
    {
     "name": "stdout",
     "output_type": "stream",
     "text": [
      "Warning: discarding nonzero nanoseconds\n"
     ]
    },
    {
     "data": {
      "text/plain": [
       "DatetimeIndex(['1970-12-31 00:00:00.000002', '1971-12-31 00:00:00.000002',\n",
       "               '1972-12-31 00:00:00.000002', '1973-12-31 00:00:00.000002',\n",
       "               '1974-12-31 00:00:00.000002', '1975-12-31 00:00:00.000002',\n",
       "               '1976-12-31 00:00:00.000002', '1977-12-31 00:00:00.000002',\n",
       "               '1978-12-31 00:00:00.000002', '1979-12-31 00:00:00.000002',\n",
       "               '1980-12-31 00:00:00.000002', '1981-12-31 00:00:00.000002',\n",
       "               '1982-12-31 00:00:00.000002', '1983-12-31 00:00:00.000002',\n",
       "               '1984-12-31 00:00:00.000002', '1985-12-31 00:00:00.000002',\n",
       "               '1986-12-31 00:00:00.000002', '1987-12-31 00:00:00.000002',\n",
       "               '1988-12-31 00:00:00.000002', '1989-12-31 00:00:00.000002',\n",
       "               '1990-12-31 00:00:00.000002', '1991-12-31 00:00:00.000002',\n",
       "               '1992-12-31 00:00:00.000002', '1993-12-31 00:00:00.000002',\n",
       "               '1994-12-31 00:00:00.000002', '1995-12-31 00:00:00.000002',\n",
       "               '1996-12-31 00:00:00.000002', '1997-12-31 00:00:00.000002',\n",
       "               '1998-12-31 00:00:00.000002', '1999-12-31 00:00:00.000002',\n",
       "               '2000-12-31 00:00:00.000002', '2001-12-31 00:00:00.000002',\n",
       "               '2002-12-31 00:00:00.000002', '2003-12-31 00:00:00.000002',\n",
       "               '2004-12-31 00:00:00.000002', '2005-12-31 00:00:00.000002',\n",
       "               '2006-12-31 00:00:00.000002', '2007-12-31 00:00:00.000002',\n",
       "               '2008-12-31 00:00:00.000002', '2009-12-31 00:00:00.000002',\n",
       "               '2010-12-31 00:00:00.000002', '2011-12-31 00:00:00.000002',\n",
       "               '2012-12-31 00:00:00.000002', '2013-12-31 00:00:00.000002',\n",
       "               '2014-12-31 00:00:00.000002', '2015-12-31 00:00:00.000002',\n",
       "               '2016-12-31 00:00:00.000002'],\n",
       "              dtype='datetime64[ns]', freq='A-DEC')"
      ]
     },
     "execution_count": 16,
     "metadata": {},
     "output_type": "execute_result"
    }
   ],
   "source": [
    "index = pd.date_range(s2.index[-1].year, \"2017-12-31\", freq=\"A\")\n",
    "index"
   ]
  },
  {
   "cell_type": "code",
   "execution_count": 17,
   "metadata": {
    "collapsed": false
   },
   "outputs": [
    {
     "data": {
      "text/plain": [
       "2018-03-31     6.5\n",
       "2018-06-30     6.5\n",
       "2018-09-30     6.5\n",
       "2018-12-31     6.5\n",
       "2019-03-31    10.5\n",
       "2019-06-30    10.5\n",
       "2019-09-30    10.5\n",
       "2019-12-31    10.5\n",
       "2020-03-31    14.5\n",
       "2020-06-30    14.5\n",
       "2020-09-30    14.5\n",
       "2020-12-31    14.5\n",
       "Freq: Q-DEC, Name: Test, dtype: float64"
      ]
     },
     "execution_count": 17,
     "metadata": {},
     "output_type": "execute_result"
    }
   ],
   "source": [
    "s2"
   ]
  },
  {
   "cell_type": "code",
   "execution_count": 18,
   "metadata": {
    "collapsed": false
   },
   "outputs": [],
   "source": [
    "s3 = s2[s2.index.year > 2019]"
   ]
  },
  {
   "cell_type": "code",
   "execution_count": 19,
   "metadata": {
    "collapsed": false
   },
   "outputs": [
    {
     "data": {
      "text/plain": [
       "2020-03-31    14.5\n",
       "2020-06-30    14.5\n",
       "2020-09-30    14.5\n",
       "2020-12-31    14.5\n",
       "Freq: Q-DEC, Name: Test, dtype: float64"
      ]
     },
     "execution_count": 19,
     "metadata": {},
     "output_type": "execute_result"
    }
   ],
   "source": [
    "s3"
   ]
  },
  {
   "cell_type": "code",
   "execution_count": 20,
   "metadata": {
    "collapsed": true
   },
   "outputs": [],
   "source": [
    "result = s2.append(s3)"
   ]
  },
  {
   "cell_type": "code",
   "execution_count": 21,
   "metadata": {
    "collapsed": false
   },
   "outputs": [
    {
     "data": {
      "text/plain": [
       "2018-03-31     6.5\n",
       "2018-06-30     6.5\n",
       "2018-09-30     6.5\n",
       "2018-12-31     6.5\n",
       "2019-03-31    10.5\n",
       "2019-06-30    10.5\n",
       "2019-09-30    10.5\n",
       "2019-12-31    10.5\n",
       "2020-03-31    14.5\n",
       "2020-06-30    14.5\n",
       "2020-09-30    14.5\n",
       "2020-12-31    14.5\n",
       "2020-03-31    14.5\n",
       "2020-06-30    14.5\n",
       "2020-09-30    14.5\n",
       "2020-12-31    14.5\n",
       "Name: Test, dtype: float64"
      ]
     },
     "execution_count": 21,
     "metadata": {},
     "output_type": "execute_result"
    }
   ],
   "source": [
    "result"
   ]
  },
  {
   "cell_type": "raw",
   "metadata": {
    "collapsed": true
   },
   "source": [
    "s2 = s2.ix[[1:12]]"
   ]
  },
  {
   "cell_type": "code",
   "execution_count": 22,
   "metadata": {
    "collapsed": false
   },
   "outputs": [
    {
     "data": {
      "text/plain": [
       "2018-03-31     6.5\n",
       "2018-06-30     6.5\n",
       "2018-09-30     6.5\n",
       "2018-12-31     6.5\n",
       "2019-03-31    10.5\n",
       "2019-06-30    10.5\n",
       "2019-09-30    10.5\n",
       "2019-12-31    10.5\n",
       "2020-03-31    14.5\n",
       "2020-06-30    14.5\n",
       "2020-09-30    14.5\n",
       "2020-12-31    14.5\n",
       "Freq: Q-DEC, Name: Test, dtype: float64"
      ]
     },
     "execution_count": 22,
     "metadata": {},
     "output_type": "execute_result"
    }
   ],
   "source": [
    "s2"
   ]
  },
  {
   "cell_type": "code",
   "execution_count": 23,
   "metadata": {
    "collapsed": false
   },
   "outputs": [
    {
     "data": {
      "text/plain": [
       "2017-06-30    10\n",
       "2017-09-30    10\n",
       "2017-12-31    10\n",
       "2018-03-31    20\n",
       "2018-06-30    20\n",
       "2018-09-30    20\n",
       "2018-12-31    20\n",
       "2019-03-31    30\n",
       "2019-06-30    30\n",
       "2019-09-30    30\n",
       "2019-12-31    30\n",
       "2020-03-31    40\n",
       "2020-06-30    40\n",
       "2020-09-30    40\n",
       "2020-12-31    40\n",
       "2021-03-31    50\n",
       "Freq: Q-DEC, dtype: int64"
      ]
     },
     "execution_count": 23,
     "metadata": {},
     "output_type": "execute_result"
    }
   ],
   "source": [
    "dates=pd.date_range('2017-06-30',periods = 16, freq = 'Q')\n",
    "dataseries1=pd.Series([10, 10, 10, 20, 20, 20, 20, 30, 30, 30, 30, 40, 40, 40, 40, 50],index=dates)\n",
    "dataseries1"
   ]
  },
  {
   "cell_type": "code",
   "execution_count": 24,
   "metadata": {
    "collapsed": false
   },
   "outputs": [
    {
     "data": {
      "text/plain": [
       "2017-12-31     40\n",
       "2018-12-31     80\n",
       "2019-12-31    120\n",
       "2020-12-31    160\n",
       "2021-12-31    200\n",
       "Freq: A-DEC, dtype: int64"
      ]
     },
     "execution_count": 24,
     "metadata": {},
     "output_type": "execute_result"
    }
   ],
   "source": [
    "dataseries2 = _sample_to_yearly(dataseries1, 'SUM')\n",
    "dataseries2"
   ]
  },
  {
   "cell_type": "code",
   "execution_count": 25,
   "metadata": {
    "collapsed": false
   },
   "outputs": [
    {
     "data": {
      "text/plain": [
       "['test1',\n",
       " 'test2',\n",
       " 'NaN',\n",
       " 10,\n",
       " 10,\n",
       " 10,\n",
       " 20,\n",
       " 20,\n",
       " 20,\n",
       " 20,\n",
       " 30,\n",
       " 30,\n",
       " 30,\n",
       " 30,\n",
       " 40,\n",
       " 40,\n",
       " 40,\n",
       " 40,\n",
       " 50,\n",
       " 'NaN',\n",
       " 'NaN',\n",
       " 'NaN']"
      ]
     },
     "execution_count": 25,
     "metadata": {},
     "output_type": "execute_result"
    }
   ],
   "source": [
    "INDEX=pd.date_range('2017',periods = 20, freq = 'Q')\n",
    "lst = [dataseries1[idx] if idx in dataseries1.index else \"NaN\" for idx in INDEX]\n",
    "lst = [\"test1\", \"test2\"] + lst\n",
    "lst"
   ]
  },
  {
   "cell_type": "code",
   "execution_count": 26,
   "metadata": {
    "collapsed": false
   },
   "outputs": [],
   "source": [
    "dates1=pd.date_range('2016',periods = 18, freq = 'A')\n",
    "dates2=pd.date_range('2018',periods = 16, freq = 'A')\n",
    "sigma, mu = 1, 0\n",
    "dataseries1=pd.Series(sigma * np.random.randn(len(dates1)) + mu,index=dates1)\n",
    "dataseries2=pd.Series(sigma * np.random.randn(len(dates2)) + mu,index=dates2)"
   ]
  },
  {
   "cell_type": "code",
   "execution_count": 27,
   "metadata": {
    "collapsed": false
   },
   "outputs": [
    {
     "data": {
      "text/plain": [
       "2016-12-31             NaN\n",
       "2017-12-31             NaN\n",
       "2018-12-31             NaN\n",
       "2019-12-31      257.175358\n",
       "2020-12-31       19.558216\n",
       "2021-12-31      -67.393564\n",
       "2022-12-31      107.840325\n",
       "2023-12-31     2404.619993\n",
       "2024-12-31      120.796156\n",
       "2025-12-31      161.351475\n",
       "2026-12-31      308.682749\n",
       "2027-12-31      236.393159\n",
       "2028-12-31      191.515529\n",
       "2029-12-31      182.824666\n",
       "2030-12-31      -57.182775\n",
       "2031-12-31      101.767457\n",
       "2032-12-31    10311.029215\n",
       "2033-12-31       76.100144\n",
       "Freq: A-DEC, dtype: float64"
      ]
     },
     "execution_count": 27,
     "metadata": {},
     "output_type": "execute_result"
    }
   ],
   "source": [
    "test = calculate_real_interest_rate(dataseries1, dataseries2)\n",
    "test"
   ]
  },
  {
   "cell_type": "code",
   "execution_count": 28,
   "metadata": {
    "collapsed": false
   },
   "outputs": [
    {
     "data": {
      "text/plain": [
       "2019-12-31      257.175358\n",
       "2020-12-31       19.558216\n",
       "2021-12-31      -67.393564\n",
       "2022-12-31      107.840325\n",
       "2023-12-31     2404.619993\n",
       "2024-12-31      120.796156\n",
       "2025-12-31      161.351475\n",
       "2026-12-31      308.682749\n",
       "2027-12-31      236.393159\n",
       "2028-12-31      191.515529\n",
       "2029-12-31      182.824666\n",
       "2030-12-31      -57.182775\n",
       "2031-12-31      101.767457\n",
       "2032-12-31    10311.029215\n",
       "2033-12-31       76.100144\n",
       "Freq: A-DEC, dtype: float64"
      ]
     },
     "execution_count": 28,
     "metadata": {},
     "output_type": "execute_result"
    }
   ],
   "source": [
    "test.dropna()"
   ]
  },
  {
   "cell_type": "code",
   "execution_count": 29,
   "metadata": {
    "collapsed": false
   },
   "outputs": [
    {
     "data": {
      "text/plain": [
       "'2007-05-30'"
      ]
     },
     "execution_count": 29,
     "metadata": {},
     "output_type": "execute_result"
    }
   ],
   "source": [
    "# date formating:\n",
    "for idx in index:\n",
    "   y = str(idx.to_datetime().date())\n",
    "y\n",
    "\n",
    "from datetime import datetime\n",
    "t = 20070530\n",
    "x = str(pd.to_datetime(str(t), format='%Y%m%d').to_datetime().date())\n",
    "x"
   ]
  }
 ],
 "metadata": {
  "anaconda-cloud": {},
  "kernelspec": {
   "display_name": "Python [conda root]",
   "language": "python",
   "name": "conda-root-py"
  },
  "language_info": {
   "codemirror_mode": {
    "name": "ipython",
    "version": 2
   },
   "file_extension": ".py",
   "mimetype": "text/x-python",
   "name": "python",
   "nbconvert_exporter": "python",
   "pygments_lexer": "ipython2",
   "version": "2.7.12"
  }
 },
 "nbformat": 4,
 "nbformat_minor": 1
}
