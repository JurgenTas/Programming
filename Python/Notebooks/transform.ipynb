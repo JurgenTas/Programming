{
 "cells": [
  {
   "cell_type": "code",
   "execution_count": 1,
   "metadata": {
    "collapsed": false
   },
   "outputs": [
    {
     "data": {
      "text/html": [
       "<div>\n",
       "<table border=\"1\" class=\"dataframe\">\n",
       "  <thead>\n",
       "    <tr style=\"text-align: right;\">\n",
       "      <th></th>\n",
       "      <th>Test</th>\n",
       "    </tr>\n",
       "  </thead>\n",
       "  <tbody>\n",
       "    <tr>\n",
       "      <th>2017-03-31</th>\n",
       "      <td>0.431287</td>\n",
       "    </tr>\n",
       "    <tr>\n",
       "      <th>2017-06-30</th>\n",
       "      <td>0.465609</td>\n",
       "    </tr>\n",
       "    <tr>\n",
       "      <th>2017-09-30</th>\n",
       "      <td>0.061529</td>\n",
       "    </tr>\n",
       "    <tr>\n",
       "      <th>2017-12-31</th>\n",
       "      <td>-1.108429</td>\n",
       "    </tr>\n",
       "    <tr>\n",
       "      <th>2018-03-31</th>\n",
       "      <td>-0.599691</td>\n",
       "    </tr>\n",
       "  </tbody>\n",
       "</table>\n",
       "</div>"
      ],
      "text/plain": [
       "                Test\n",
       "2017-03-31  0.431287\n",
       "2017-06-30  0.465609\n",
       "2017-09-30  0.061529\n",
       "2017-12-31 -1.108429\n",
       "2018-03-31 -0.599691"
      ]
     },
     "execution_count": 1,
     "metadata": {},
     "output_type": "execute_result"
    }
   ],
   "source": [
    "import pandas as pd\n",
    "import numpy as np\n",
    "\n",
    "dates=pd.date_range('2017',periods = 16, freq = 'Q')\n",
    "sigma, mu = 1, 0\n",
    "dataseries=pd.Series(sigma * np.random.randn(16) + mu,index=dates)\n",
    "df=pd.DataFrame({'Test':dataseries})\n",
    "df.head()"
   ]
  },
  {
   "cell_type": "code",
   "execution_count": 2,
   "metadata": {
    "collapsed": false
   },
   "outputs": [],
   "source": [
    "s1 = df['Test']"
   ]
  },
  {
   "cell_type": "code",
   "execution_count": 66,
   "metadata": {
    "collapsed": false
   },
   "outputs": [],
   "source": [
    "def calculate_ratio(ts1, ts2):\n",
    "    '''\n",
    "    '''\n",
    "    return s1 / s2\n",
    "\n",
    "\n",
    "def calculate_difference(ts):\n",
    "    '''\n",
    "    '''\n",
    "    return ts - ts.shift(1)\n",
    "\n",
    "def calculate_transform(ts):\n",
    "    '''\n",
    "    '''\n",
    "    return ts / ts.shift(1) - 1\n",
    "\n",
    "def calculate_inverse_difference(ts, start): \n",
    "    '''\n",
    "    '''\n",
    "    vals = [start]*len(ts)  # init fixed size array\n",
    "    for i in range(1, len(ts)):\n",
    "        vals[i] = vals[i-1] + ts.iloc[i]\n",
    "    return pd.Series(vals, ts.index)\n",
    "\n",
    "def calculate_inverse_transform(ts, start): \n",
    "    '''\n",
    "    '''\n",
    "    vals = [start]*len(ts)  # init fixed size array\n",
    "    for i in range(1, len(ts)):\n",
    "        vals[i] = vals[i-1] * (1 + ts.iloc[i])\n",
    "    return pd.Series(vals, ts.index)\n",
    "\n",
    "\n",
    "def calculate_standarization(ts, mu, sigma): \n",
    "    '''\n",
    "    '''\n",
    "    return (ts - mu) / sigma  \n",
    "\n",
    "def _sample_to_yearly(series, aggregation_type):\n",
    "    \"\"\"\n",
    "    Aggregate to yearly Q4 data.\n",
    "    :param series: time series with quarterly data\n",
    "    :param aggregation_type: \n",
    "    :return: time series with yearly (year-end) data\n",
    "    \"\"\"\n",
    "    if aggregation_type == 'AVG':\n",
    "        result = series.resample('A-DEC').mean()\n",
    "        return result\n",
    "    else:\n",
    "        result = series.resample('A-DEC').sum()\n",
    "        return result\n",
    "\n",
    "\n",
    "def _sample_to_quarterly(series, aggregation_type):\n",
    "    \"\"\"\n",
    "    Aggregate to yearly data to quarterly data.\n",
    "    :param series: time series with yearly (year-end) data\n",
    "    :param aggregation_type: \n",
    "    :return: time series with quarterly data\n",
    "    \"\"\"\n",
    "    if aggregation_type == 'AVG':\n",
    "        result = series.resample('Q').bfill()\n",
    "        return result\n",
    "    else:\n",
    "        result = series.resample('Q').bfill() / 4\n",
    "        return result\n",
    "\n",
    "\n",
    "def _transform_yearly(series, transformation_type):\n",
    "    \"\"\"\n",
    "    Transform to correct unit for extension.\n",
    "    :param series: time series with yearly data\n",
    "    :param transformation_type:\n",
    "    :return: time series expressed in YOY (or Y-Y) unit\n",
    "    \"\"\"\n",
    "    if transformation_type == 'YOY':\n",
    "        result = calculate_transform(series)\n",
    "        return result\n",
    "    else:\n",
    "        result = calculate_difference(series)\n",
    "        return result\n",
    "\n",
    "def _inverse_transform_yearly(time_series, transformation_type, start):\n",
    "    \"\"\"\n",
    "    Transform from YOY (or Y-Y) to ABS unit.\n",
    "    :param time_series: time series YOY (or Y-Y) unit\n",
    "    :param transformation_type:\n",
    "    :return: time series expressed in ABS unit\n",
    "    \"\"\"\n",
    "    if transformation_type == 'YOY':\n",
    "        result = calculate_inverse_transform(time_series, start)\n",
    "        return result\n",
    "    else:\n",
    "        result = calculate_inverse_difference(time_series, start)\n",
    "        return result\n",
    "\n",
    "def extend_time_series(series, aggregation_type, transformation_type, end):\n",
    "    \"\"\"\n",
    "    :param series: \n",
    "    :param aggregation_type: \n",
    "    :param transformation_type: \n",
    "    :param end: \n",
    "    :return: \n",
    "    \"\"\"\n",
    "    val0 = series.iloc[0]\n",
    "    start = series.index[-1].year + 1\n",
    "    \n",
    "    index = pd.date_range(str(start), end, freq=\"A\")\n",
    "    \n",
    "\n",
    "    transformed_series = _sample_to_yearly(series, aggregation_type)\n",
    "    transformed_series = _transform_yearly(transformed_series, transformation_type)\n",
    "    \n",
    "    val1 = transformed_series[len(transformed_series)-1]\n",
    "    val2 = transformed_series[len(transformed_series)-2]\n",
    "    \n",
    "    for time_stamp in index:  # start forecasting using index\n",
    "        tmp = 0\n",
    "        transformed_series[time_stamp] = tmp\n",
    "        val2 = val1\n",
    "        val1 = tmp\n",
    "    print(transformed_series)\n",
    "    extended_series = transformed_series[transformed_series.index.year >= start]\n",
    "    extended_series = _inverse_transform_yearly(extended_series, transformation_type, val0)\n",
    "    extended_series = _sample_to_quarterly(extended_series, aggregation_type)\n",
    "    result = series.append(extended_series)\n",
    "    \n",
    "    return result"
   ]
  },
  {
   "cell_type": "code",
   "execution_count": 67,
   "metadata": {
    "collapsed": false
   },
   "outputs": [
    {
     "name": "stdout",
     "output_type": "stream",
     "text": [
      "2017-12-31         NaN\n",
      "2018-12-31    1.600000\n",
      "2019-12-31    0.615385\n",
      "2020-12-31    0.380952\n",
      "2021-12-31    0.000000\n",
      "2022-12-31    0.000000\n",
      "2023-12-31    0.000000\n",
      "2024-12-31    0.000000\n",
      "Freq: A-DEC, Name: Test, dtype: float64\n"
     ]
    }
   ],
   "source": [
    "s3 = extend_time_series(s1, \"AVG\", \"YOY\", \"2024-12-31\")"
   ]
  },
  {
   "cell_type": "code",
   "execution_count": 68,
   "metadata": {
    "collapsed": false
   },
   "outputs": [
    {
     "data": {
      "text/plain": [
       "2017-12-31     2.5\n",
       "2018-12-31     6.5\n",
       "2019-12-31    10.5\n",
       "2020-12-31    14.5\n",
       "2021-12-31     2.5\n",
       "2022-03-31     2.5\n",
       "2022-06-30     2.5\n",
       "2022-09-30     2.5\n",
       "2022-12-31     2.5\n",
       "2023-03-31     2.5\n",
       "2023-06-30     2.5\n",
       "2023-09-30     2.5\n",
       "2023-12-31     2.5\n",
       "2024-03-31     2.5\n",
       "2024-06-30     2.5\n",
       "2024-09-30     2.5\n",
       "2024-12-31     2.5\n",
       "dtype: float64"
      ]
     },
     "execution_count": 68,
     "metadata": {},
     "output_type": "execute_result"
    }
   ],
   "source": [
    "s3"
   ]
  },
  {
   "cell_type": "code",
   "execution_count": 6,
   "metadata": {
    "collapsed": false
   },
   "outputs": [
    {
     "data": {
      "text/html": [
       "<div>\n",
       "<table border=\"1\" class=\"dataframe\">\n",
       "  <thead>\n",
       "    <tr style=\"text-align: right;\">\n",
       "      <th></th>\n",
       "      <th>Test</th>\n",
       "      <th>Type</th>\n",
       "    </tr>\n",
       "  </thead>\n",
       "  <tbody>\n",
       "    <tr>\n",
       "      <th>2017-03-31</th>\n",
       "      <td>1</td>\n",
       "      <td>0</td>\n",
       "    </tr>\n",
       "    <tr>\n",
       "      <th>2017-06-30</th>\n",
       "      <td>2</td>\n",
       "      <td>0</td>\n",
       "    </tr>\n",
       "    <tr>\n",
       "      <th>2017-09-30</th>\n",
       "      <td>3</td>\n",
       "      <td>0</td>\n",
       "    </tr>\n",
       "    <tr>\n",
       "      <th>2017-12-31</th>\n",
       "      <td>4</td>\n",
       "      <td>0</td>\n",
       "    </tr>\n",
       "    <tr>\n",
       "      <th>2018-03-31</th>\n",
       "      <td>5</td>\n",
       "      <td>1</td>\n",
       "    </tr>\n",
       "    <tr>\n",
       "      <th>2018-06-30</th>\n",
       "      <td>6</td>\n",
       "      <td>1</td>\n",
       "    </tr>\n",
       "    <tr>\n",
       "      <th>2018-09-30</th>\n",
       "      <td>7</td>\n",
       "      <td>1</td>\n",
       "    </tr>\n",
       "    <tr>\n",
       "      <th>2018-12-31</th>\n",
       "      <td>8</td>\n",
       "      <td>1</td>\n",
       "    </tr>\n",
       "    <tr>\n",
       "      <th>2019-03-31</th>\n",
       "      <td>9</td>\n",
       "      <td>1</td>\n",
       "    </tr>\n",
       "    <tr>\n",
       "      <th>2019-06-30</th>\n",
       "      <td>10</td>\n",
       "      <td>1</td>\n",
       "    </tr>\n",
       "    <tr>\n",
       "      <th>2019-09-30</th>\n",
       "      <td>11</td>\n",
       "      <td>1</td>\n",
       "    </tr>\n",
       "    <tr>\n",
       "      <th>2019-12-31</th>\n",
       "      <td>12</td>\n",
       "      <td>1</td>\n",
       "    </tr>\n",
       "    <tr>\n",
       "      <th>2020-03-31</th>\n",
       "      <td>13</td>\n",
       "      <td>1</td>\n",
       "    </tr>\n",
       "    <tr>\n",
       "      <th>2020-06-30</th>\n",
       "      <td>14</td>\n",
       "      <td>1</td>\n",
       "    </tr>\n",
       "    <tr>\n",
       "      <th>2020-09-30</th>\n",
       "      <td>15</td>\n",
       "      <td>1</td>\n",
       "    </tr>\n",
       "    <tr>\n",
       "      <th>2020-12-31</th>\n",
       "      <td>16</td>\n",
       "      <td>1</td>\n",
       "    </tr>\n",
       "  </tbody>\n",
       "</table>\n",
       "</div>"
      ],
      "text/plain": [
       "            Test  Type\n",
       "2017-03-31     1     0\n",
       "2017-06-30     2     0\n",
       "2017-09-30     3     0\n",
       "2017-12-31     4     0\n",
       "2018-03-31     5     1\n",
       "2018-06-30     6     1\n",
       "2018-09-30     7     1\n",
       "2018-12-31     8     1\n",
       "2019-03-31     9     1\n",
       "2019-06-30    10     1\n",
       "2019-09-30    11     1\n",
       "2019-12-31    12     1\n",
       "2020-03-31    13     1\n",
       "2020-06-30    14     1\n",
       "2020-09-30    15     1\n",
       "2020-12-31    16     1"
      ]
     },
     "execution_count": 6,
     "metadata": {},
     "output_type": "execute_result"
    }
   ],
   "source": [
    "dates=pd.date_range('2017',periods = 16, freq = 'Q')\n",
    "sigma, mu = 1, 0\n",
    "dataseries=pd.Series([1, 2, 3, 4, 5, 6, 7, 8, 9, 10, 11, 12, 13, 14, 15, 16],index=dates)\n",
    "df=pd.DataFrame({'Test':dataseries})\n",
    "df['Type'] = [0, 0, 0, 0, 1, 1, 1, 1, 1, 1, 1, 1, 1, 1, 1, 1]\n",
    "df"
   ]
  },
  {
   "cell_type": "code",
   "execution_count": 7,
   "metadata": {
    "collapsed": false
   },
   "outputs": [
    {
     "data": {
      "text/plain": [
       "2017-12-31    10\n",
       "2018-12-31    26\n",
       "2019-12-31    42\n",
       "2020-12-31    58\n",
       "Freq: A-DEC, Name: Test, dtype: int64"
      ]
     },
     "execution_count": 7,
     "metadata": {},
     "output_type": "execute_result"
    }
   ],
   "source": [
    "# Q4 base:\n",
    "series = df['Test']\n",
    "s = series.resample('A-DEC').sum()[0:]\n",
    "s"
   ]
  },
  {
   "cell_type": "code",
   "execution_count": 8,
   "metadata": {
    "collapsed": false
   },
   "outputs": [
    {
     "data": {
      "text/plain": [
       "2017-12-31     2.5\n",
       "2018-12-31     6.5\n",
       "2019-12-31    10.5\n",
       "2020-12-31    14.5\n",
       "Freq: A-DEC, Name: Test, dtype: float64"
      ]
     },
     "execution_count": 8,
     "metadata": {},
     "output_type": "execute_result"
    }
   ],
   "source": [
    "# Q4 base:\n",
    "series = df['Test']\n",
    "s = series.resample('A-DEC').mean()[0:]\n",
    "s"
   ]
  },
  {
   "cell_type": "code",
   "execution_count": 9,
   "metadata": {
    "collapsed": false
   },
   "outputs": [
    {
     "data": {
      "text/plain": [
       "2018-03-31    14\n",
       "2019-03-31    30\n",
       "2020-03-31    46\n",
       "Freq: A-MAR, Name: Test, dtype: int64"
      ]
     },
     "execution_count": 9,
     "metadata": {},
     "output_type": "execute_result"
    }
   ],
   "source": [
    "# Q1 base:\n",
    "series = df['Test']\n",
    "s = series.resample('A-MAR').sum()[1:-1]\n",
    "s"
   ]
  },
  {
   "cell_type": "code",
   "execution_count": 10,
   "metadata": {
    "collapsed": false
   },
   "outputs": [
    {
     "data": {
      "text/plain": [
       "2017-12-31     2.5\n",
       "2018-12-31     6.5\n",
       "2019-12-31    10.5\n",
       "2020-12-31    14.5\n",
       "Freq: A-DEC, Name: Test, dtype: float64"
      ]
     },
     "execution_count": 10,
     "metadata": {},
     "output_type": "execute_result"
    }
   ],
   "source": [
    "# Q4 base:\n",
    "s0 = df['Test']\n",
    "dates = series.index\n",
    "s1  = series.resample('A-DEC').mean()\n",
    "s1"
   ]
  },
  {
   "cell_type": "code",
   "execution_count": 11,
   "metadata": {
    "collapsed": false
   },
   "outputs": [
    {
     "data": {
      "text/plain": [
       "2018-03-31     6.5\n",
       "2018-06-30     6.5\n",
       "2018-09-30     6.5\n",
       "2018-12-31     6.5\n",
       "2019-03-31    10.5\n",
       "2019-06-30    10.5\n",
       "2019-09-30    10.5\n",
       "2019-12-31    10.5\n",
       "2020-03-31    14.5\n",
       "2020-06-30    14.5\n",
       "2020-09-30    14.5\n",
       "2020-12-31    14.5\n",
       "Freq: Q-DEC, Name: Test, dtype: float64"
      ]
     },
     "execution_count": 11,
     "metadata": {},
     "output_type": "execute_result"
    }
   ],
   "source": [
    "s2 = s1.resample('Q').bfill()\n",
    "s2 = s2[s2.index.year >= 2018]\n",
    "s2"
   ]
  },
  {
   "cell_type": "code",
   "execution_count": 12,
   "metadata": {
    "collapsed": false
   },
   "outputs": [
    {
     "data": {
      "text/plain": [
       "DatetimeIndex(['2015-12-31', '2016-12-31', '2017-12-31'], dtype='datetime64[ns]', freq='A-DEC')"
      ]
     },
     "execution_count": 12,
     "metadata": {},
     "output_type": "execute_result"
    }
   ],
   "source": [
    "import pandas as pd\n",
    "pd.date_range(\"2015\", \"2017-12-31\", freq=\"A\")"
   ]
  },
  {
   "cell_type": "code",
   "execution_count": 13,
   "metadata": {
    "collapsed": false
   },
   "outputs": [
    {
     "data": {
      "text/plain": [
       "14.5"
      ]
     },
     "execution_count": 13,
     "metadata": {},
     "output_type": "execute_result"
    }
   ],
   "source": [
    "s2[-1]"
   ]
  },
  {
   "cell_type": "code",
   "execution_count": 14,
   "metadata": {
    "collapsed": false
   },
   "outputs": [
    {
     "data": {
      "text/plain": [
       "6.5"
      ]
     },
     "execution_count": 14,
     "metadata": {},
     "output_type": "execute_result"
    }
   ],
   "source": [
    "s2[0]"
   ]
  },
  {
   "cell_type": "code",
   "execution_count": 15,
   "metadata": {
    "collapsed": false
   },
   "outputs": [
    {
     "data": {
      "text/plain": [
       "2020"
      ]
     },
     "execution_count": 15,
     "metadata": {},
     "output_type": "execute_result"
    }
   ],
   "source": [
    "s2.index[-1].year"
   ]
  },
  {
   "cell_type": "code",
   "execution_count": 42,
   "metadata": {
    "collapsed": false
   },
   "outputs": [
    {
     "name": "stdout",
     "output_type": "stream",
     "text": [
      "Warning: discarding nonzero nanoseconds\n"
     ]
    },
    {
     "data": {
      "text/plain": [
       "DatetimeIndex(['1970-12-31 00:00:00.000002', '1971-12-31 00:00:00.000002',\n",
       "               '1972-12-31 00:00:00.000002', '1973-12-31 00:00:00.000002',\n",
       "               '1974-12-31 00:00:00.000002', '1975-12-31 00:00:00.000002',\n",
       "               '1976-12-31 00:00:00.000002', '1977-12-31 00:00:00.000002',\n",
       "               '1978-12-31 00:00:00.000002', '1979-12-31 00:00:00.000002',\n",
       "               '1980-12-31 00:00:00.000002', '1981-12-31 00:00:00.000002',\n",
       "               '1982-12-31 00:00:00.000002', '1983-12-31 00:00:00.000002',\n",
       "               '1984-12-31 00:00:00.000002', '1985-12-31 00:00:00.000002',\n",
       "               '1986-12-31 00:00:00.000002', '1987-12-31 00:00:00.000002',\n",
       "               '1988-12-31 00:00:00.000002', '1989-12-31 00:00:00.000002',\n",
       "               '1990-12-31 00:00:00.000002', '1991-12-31 00:00:00.000002',\n",
       "               '1992-12-31 00:00:00.000002', '1993-12-31 00:00:00.000002',\n",
       "               '1994-12-31 00:00:00.000002', '1995-12-31 00:00:00.000002',\n",
       "               '1996-12-31 00:00:00.000002', '1997-12-31 00:00:00.000002',\n",
       "               '1998-12-31 00:00:00.000002', '1999-12-31 00:00:00.000002',\n",
       "               '2000-12-31 00:00:00.000002', '2001-12-31 00:00:00.000002',\n",
       "               '2002-12-31 00:00:00.000002', '2003-12-31 00:00:00.000002',\n",
       "               '2004-12-31 00:00:00.000002', '2005-12-31 00:00:00.000002',\n",
       "               '2006-12-31 00:00:00.000002', '2007-12-31 00:00:00.000002',\n",
       "               '2008-12-31 00:00:00.000002', '2009-12-31 00:00:00.000002',\n",
       "               '2010-12-31 00:00:00.000002', '2011-12-31 00:00:00.000002',\n",
       "               '2012-12-31 00:00:00.000002', '2013-12-31 00:00:00.000002',\n",
       "               '2014-12-31 00:00:00.000002', '2015-12-31 00:00:00.000002',\n",
       "               '2016-12-31 00:00:00.000002'],\n",
       "              dtype='datetime64[ns]', freq='A-DEC')"
      ]
     },
     "execution_count": 42,
     "metadata": {},
     "output_type": "execute_result"
    }
   ],
   "source": [
    "index = pd.date_range(s2.index[-1].year, \"2017-12-31\", freq=\"A\")\n",
    "index"
   ]
  },
  {
   "cell_type": "code",
   "execution_count": 17,
   "metadata": {
    "collapsed": false
   },
   "outputs": [
    {
     "data": {
      "text/plain": [
       "2018-03-31     6.5\n",
       "2018-06-30     6.5\n",
       "2018-09-30     6.5\n",
       "2018-12-31     6.5\n",
       "2019-03-31    10.5\n",
       "2019-06-30    10.5\n",
       "2019-09-30    10.5\n",
       "2019-12-31    10.5\n",
       "2020-03-31    14.5\n",
       "2020-06-30    14.5\n",
       "2020-09-30    14.5\n",
       "2020-12-31    14.5\n",
       "Freq: Q-DEC, Name: Test, dtype: float64"
      ]
     },
     "execution_count": 17,
     "metadata": {},
     "output_type": "execute_result"
    }
   ],
   "source": [
    "s2"
   ]
  },
  {
   "cell_type": "code",
   "execution_count": 18,
   "metadata": {
    "collapsed": false
   },
   "outputs": [],
   "source": [
    "s3 = s2[s2.index.year > 2019]"
   ]
  },
  {
   "cell_type": "code",
   "execution_count": 19,
   "metadata": {
    "collapsed": false
   },
   "outputs": [
    {
     "data": {
      "text/plain": [
       "2020-03-31    14.5\n",
       "2020-06-30    14.5\n",
       "2020-09-30    14.5\n",
       "2020-12-31    14.5\n",
       "Freq: Q-DEC, Name: Test, dtype: float64"
      ]
     },
     "execution_count": 19,
     "metadata": {},
     "output_type": "execute_result"
    }
   ],
   "source": [
    "s3"
   ]
  },
  {
   "cell_type": "code",
   "execution_count": 20,
   "metadata": {
    "collapsed": true
   },
   "outputs": [],
   "source": [
    "result = s2.append(s3)"
   ]
  },
  {
   "cell_type": "code",
   "execution_count": 21,
   "metadata": {
    "collapsed": false
   },
   "outputs": [
    {
     "data": {
      "text/plain": [
       "2018-03-31     6.5\n",
       "2018-06-30     6.5\n",
       "2018-09-30     6.5\n",
       "2018-12-31     6.5\n",
       "2019-03-31    10.5\n",
       "2019-06-30    10.5\n",
       "2019-09-30    10.5\n",
       "2019-12-31    10.5\n",
       "2020-03-31    14.5\n",
       "2020-06-30    14.5\n",
       "2020-09-30    14.5\n",
       "2020-12-31    14.5\n",
       "2020-03-31    14.5\n",
       "2020-06-30    14.5\n",
       "2020-09-30    14.5\n",
       "2020-12-31    14.5\n",
       "Name: Test, dtype: float64"
      ]
     },
     "execution_count": 21,
     "metadata": {},
     "output_type": "execute_result"
    }
   ],
   "source": [
    "result"
   ]
  },
  {
   "cell_type": "code",
   "execution_count": null,
   "metadata": {
    "collapsed": true
   },
   "outputs": [],
   "source": []
  }
 ],
 "metadata": {
  "anaconda-cloud": {},
  "kernelspec": {
   "display_name": "Python [conda root]",
   "language": "python",
   "name": "conda-root-py"
  },
  "language_info": {
   "codemirror_mode": {
    "name": "ipython",
    "version": 2
   },
   "file_extension": ".py",
   "mimetype": "text/x-python",
   "name": "python",
   "nbconvert_exporter": "python",
   "pygments_lexer": "ipython2",
   "version": "2.7.12"
  }
 },
 "nbformat": 4,
 "nbformat_minor": 1
}
