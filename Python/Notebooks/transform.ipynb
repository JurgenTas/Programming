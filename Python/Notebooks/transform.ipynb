{
 "cells": [
  {
   "cell_type": "code",
   "execution_count": 1,
   "metadata": {
    "collapsed": false
   },
   "outputs": [
    {
     "data": {
      "text/html": [
       "<div>\n",
       "<table border=\"1\" class=\"dataframe\">\n",
       "  <thead>\n",
       "    <tr style=\"text-align: right;\">\n",
       "      <th></th>\n",
       "      <th>Test</th>\n",
       "    </tr>\n",
       "  </thead>\n",
       "  <tbody>\n",
       "    <tr>\n",
       "      <th>2017-03-31</th>\n",
       "      <td>0.053956</td>\n",
       "    </tr>\n",
       "    <tr>\n",
       "      <th>2017-06-30</th>\n",
       "      <td>0.224500</td>\n",
       "    </tr>\n",
       "    <tr>\n",
       "      <th>2017-09-30</th>\n",
       "      <td>-0.468526</td>\n",
       "    </tr>\n",
       "    <tr>\n",
       "      <th>2017-12-31</th>\n",
       "      <td>-1.463937</td>\n",
       "    </tr>\n",
       "    <tr>\n",
       "      <th>2018-03-31</th>\n",
       "      <td>0.523060</td>\n",
       "    </tr>\n",
       "  </tbody>\n",
       "</table>\n",
       "</div>"
      ],
      "text/plain": [
       "                Test\n",
       "2017-03-31  0.053956\n",
       "2017-06-30  0.224500\n",
       "2017-09-30 -0.468526\n",
       "2017-12-31 -1.463937\n",
       "2018-03-31  0.523060"
      ]
     },
     "execution_count": 1,
     "metadata": {},
     "output_type": "execute_result"
    }
   ],
   "source": [
    "import pandas as pd\n",
    "import numpy as np\n",
    "\n",
    "dates=pd.date_range('2017',periods = 16, freq = 'Q')\n",
    "sigma, mu = 1, 0\n",
    "dataseries=pd.Series(sigma * np.random.randn(16) + mu,index=dates)\n",
    "df=pd.DataFrame({'Test':dataseries})\n",
    "df.head()"
   ]
  },
  {
   "cell_type": "code",
   "execution_count": 2,
   "metadata": {
    "collapsed": false
   },
   "outputs": [],
   "source": [
    "s1 = df['Test']"
   ]
  },
  {
   "cell_type": "code",
   "execution_count": 3,
   "metadata": {
    "collapsed": false
   },
   "outputs": [],
   "source": [
    "def calculate_ratio(ts1, ts2):\n",
    "    '''\n",
    "    '''\n",
    "    return ts1 / ts2\n",
    "\n",
    "\n",
    "def calculate_difference(ts):\n",
    "    '''\n",
    "    '''\n",
    "    return ts - ts.shift(1)\n",
    "\n",
    "def calculate_transform(ts):\n",
    "    '''\n",
    "    '''\n",
    "    return ts / ts.shift(1) - 1\n",
    "\n",
    "def calculate_inverse_difference(ts, start): \n",
    "    '''\n",
    "    '''\n",
    "    vals = [start]*len(ts)  # init fixed size array\n",
    "    for i in range(1, len(ts)):\n",
    "        vals[i] = vals[i-1] + ts.iloc[i]\n",
    "    return pd.Series(vals, ts.index)\n",
    "\n",
    "def calculate_inverse_transform(ts, start): \n",
    "    '''\n",
    "    '''\n",
    "    vals = [start]*len(ts)  # init fixed size array\n",
    "    for i in range(1, len(ts)):\n",
    "        vals[i] = vals[i-1] * (1 + ts.iloc[i])\n",
    "    return pd.Series(vals, ts.index)\n",
    "\n",
    "\n",
    "def calculate_standarization(ts, mu, sigma): \n",
    "    '''\n",
    "    '''\n",
    "    return (ts - mu) / sigma"
   ]
  },
  {
   "cell_type": "code",
   "execution_count": 4,
   "metadata": {
    "collapsed": false
   },
   "outputs": [],
   "source": [
    "s2 = calculate_difference(s1)\n",
    "start = s1.iloc[0]\n",
    "s3 = calculate_inverse_difference(s2, start)\n",
    "s4 = calculate_transform(s1)\n",
    "s5 = calculate_inverse_transform(s4, start)\n",
    "s6 = calculate_standarization(s1, mu, sigma)"
   ]
  },
  {
   "cell_type": "code",
   "execution_count": 5,
   "metadata": {
    "collapsed": false
   },
   "outputs": [
    {
     "data": {
      "text/plain": [
       "2017-03-31    0.053956\n",
       "2017-06-30    0.224500\n",
       "2017-09-30   -0.468526\n",
       "2017-12-31   -1.463937\n",
       "2018-03-31    0.523060\n",
       "2018-06-30   -1.041680\n",
       "2018-09-30   -0.505972\n",
       "2018-12-31    2.628230\n",
       "2019-03-31    0.886323\n",
       "2019-06-30   -1.676632\n",
       "2019-09-30    0.095544\n",
       "2019-12-31    0.145623\n",
       "2020-03-31   -0.475038\n",
       "2020-06-30   -0.050150\n",
       "2020-09-30    1.927662\n",
       "2020-12-31   -0.772882\n",
       "Freq: Q-DEC, Name: Test, dtype: float64"
      ]
     },
     "execution_count": 5,
     "metadata": {},
     "output_type": "execute_result"
    }
   ],
   "source": [
    "s1"
   ]
  },
  {
   "cell_type": "code",
   "execution_count": 6,
   "metadata": {
    "collapsed": false
   },
   "outputs": [
    {
     "data": {
      "text/plain": [
       "2017-03-31         NaN\n",
       "2017-06-30    0.170544\n",
       "2017-09-30   -0.693026\n",
       "2017-12-31   -0.995411\n",
       "2018-03-31    1.986996\n",
       "2018-06-30   -1.564740\n",
       "2018-09-30    0.535708\n",
       "2018-12-31    3.134202\n",
       "2019-03-31   -1.741907\n",
       "2019-06-30   -2.562955\n",
       "2019-09-30    1.772176\n",
       "2019-12-31    0.050080\n",
       "2020-03-31   -0.620661\n",
       "2020-06-30    0.424888\n",
       "2020-09-30    1.977812\n",
       "2020-12-31   -2.700544\n",
       "Freq: Q-DEC, Name: Test, dtype: float64"
      ]
     },
     "execution_count": 6,
     "metadata": {},
     "output_type": "execute_result"
    }
   ],
   "source": [
    "s2"
   ]
  },
  {
   "cell_type": "code",
   "execution_count": 7,
   "metadata": {
    "collapsed": false
   },
   "outputs": [
    {
     "data": {
      "text/plain": [
       "2017-03-31    0.053956\n",
       "2017-06-30    0.224500\n",
       "2017-09-30   -0.468526\n",
       "2017-12-31   -1.463937\n",
       "2018-03-31    0.523060\n",
       "2018-06-30   -1.041680\n",
       "2018-09-30   -0.505972\n",
       "2018-12-31    2.628230\n",
       "2019-03-31    0.886323\n",
       "2019-06-30   -1.676632\n",
       "2019-09-30    0.095544\n",
       "2019-12-31    0.145623\n",
       "2020-03-31   -0.475038\n",
       "2020-06-30   -0.050150\n",
       "2020-09-30    1.927662\n",
       "2020-12-31   -0.772882\n",
       "Freq: Q-DEC, dtype: float64"
      ]
     },
     "execution_count": 7,
     "metadata": {},
     "output_type": "execute_result"
    }
   ],
   "source": [
    "s3"
   ]
  },
  {
   "cell_type": "code",
   "execution_count": 8,
   "metadata": {
    "collapsed": false
   },
   "outputs": [
    {
     "data": {
      "text/plain": [
       "2017-03-31          NaN\n",
       "2017-06-30     3.160790\n",
       "2017-09-30    -3.086971\n",
       "2017-12-31     2.124558\n",
       "2018-03-31    -1.357297\n",
       "2018-06-30    -2.991513\n",
       "2018-09-30    -0.514273\n",
       "2018-12-31    -6.194417\n",
       "2019-03-31    -0.662768\n",
       "2019-06-30    -2.891673\n",
       "2019-09-30    -1.056986\n",
       "2019-12-31     0.524153\n",
       "2020-03-31    -4.262098\n",
       "2020-06-30    -0.894430\n",
       "2020-09-30   -39.438230\n",
       "2020-12-31    -1.400943\n",
       "Freq: Q-DEC, Name: Test, dtype: float64"
      ]
     },
     "execution_count": 8,
     "metadata": {},
     "output_type": "execute_result"
    }
   ],
   "source": [
    "s4"
   ]
  },
  {
   "cell_type": "code",
   "execution_count": 9,
   "metadata": {
    "collapsed": false
   },
   "outputs": [
    {
     "data": {
      "text/plain": [
       "2017-03-31    0.053956\n",
       "2017-06-30    0.224500\n",
       "2017-09-30   -0.468526\n",
       "2017-12-31   -1.463937\n",
       "2018-03-31    0.523060\n",
       "2018-06-30   -1.041680\n",
       "2018-09-30   -0.505972\n",
       "2018-12-31    2.628230\n",
       "2019-03-31    0.886323\n",
       "2019-06-30   -1.676632\n",
       "2019-09-30    0.095544\n",
       "2019-12-31    0.145623\n",
       "2020-03-31   -0.475038\n",
       "2020-06-30   -0.050150\n",
       "2020-09-30    1.927662\n",
       "2020-12-31   -0.772882\n",
       "Freq: Q-DEC, dtype: float64"
      ]
     },
     "execution_count": 9,
     "metadata": {},
     "output_type": "execute_result"
    }
   ],
   "source": [
    "s5"
   ]
  },
  {
   "cell_type": "code",
   "execution_count": 10,
   "metadata": {
    "collapsed": false
   },
   "outputs": [
    {
     "data": {
      "text/plain": [
       "2017-03-31    0.053956\n",
       "2017-06-30    0.224500\n",
       "2017-09-30   -0.468526\n",
       "2017-12-31   -1.463937\n",
       "2018-03-31    0.523060\n",
       "2018-06-30   -1.041680\n",
       "2018-09-30   -0.505972\n",
       "2018-12-31    2.628230\n",
       "2019-03-31    0.886323\n",
       "2019-06-30   -1.676632\n",
       "2019-09-30    0.095544\n",
       "2019-12-31    0.145623\n",
       "2020-03-31   -0.475038\n",
       "2020-06-30   -0.050150\n",
       "2020-09-30    1.927662\n",
       "2020-12-31   -0.772882\n",
       "Freq: Q-DEC, Name: Test, dtype: float64"
      ]
     },
     "execution_count": 10,
     "metadata": {},
     "output_type": "execute_result"
    }
   ],
   "source": [
    "s6"
   ]
  },
  {
   "cell_type": "code",
   "execution_count": 11,
   "metadata": {
    "collapsed": false
   },
   "outputs": [
    {
     "data": {
      "text/plain": [
       "2017-03-31    0.053956\n",
       "2017-06-30    0.224500\n",
       "2017-09-30   -0.468526\n",
       "2017-12-31   -1.463937\n",
       "2018-03-31    0.523060\n",
       "2018-06-30   -1.041680\n",
       "2018-09-30   -0.505972\n",
       "2018-12-31    2.628230\n",
       "2019-03-31    0.886323\n",
       "2019-06-30   -1.676632\n",
       "2019-09-30    0.095544\n",
       "2019-12-31    0.145623\n",
       "2020-03-31   -0.475038\n",
       "2020-06-30   -0.050150\n",
       "2020-09-30    1.927662\n",
       "2020-12-31   -0.772882\n",
       "Freq: Q-DEC, Name: Test, dtype: float64"
      ]
     },
     "execution_count": 11,
     "metadata": {},
     "output_type": "execute_result"
    }
   ],
   "source": [
    "s1"
   ]
  },
  {
   "cell_type": "code",
   "execution_count": 17,
   "metadata": {
    "collapsed": false
   },
   "outputs": [
    {
     "data": {
      "text/html": [
       "<div>\n",
       "<table border=\"1\" class=\"dataframe\">\n",
       "  <thead>\n",
       "    <tr style=\"text-align: right;\">\n",
       "      <th></th>\n",
       "      <th>Test</th>\n",
       "      <th>Type</th>\n",
       "    </tr>\n",
       "  </thead>\n",
       "  <tbody>\n",
       "    <tr>\n",
       "      <th>2017-03-31</th>\n",
       "      <td>1</td>\n",
       "      <td>0</td>\n",
       "    </tr>\n",
       "    <tr>\n",
       "      <th>2017-06-30</th>\n",
       "      <td>1</td>\n",
       "      <td>0</td>\n",
       "    </tr>\n",
       "    <tr>\n",
       "      <th>2017-09-30</th>\n",
       "      <td>1</td>\n",
       "      <td>0</td>\n",
       "    </tr>\n",
       "    <tr>\n",
       "      <th>2017-12-31</th>\n",
       "      <td>1</td>\n",
       "      <td>0</td>\n",
       "    </tr>\n",
       "    <tr>\n",
       "      <th>2018-03-31</th>\n",
       "      <td>2</td>\n",
       "      <td>1</td>\n",
       "    </tr>\n",
       "    <tr>\n",
       "      <th>2018-06-30</th>\n",
       "      <td>2</td>\n",
       "      <td>1</td>\n",
       "    </tr>\n",
       "    <tr>\n",
       "      <th>2018-09-30</th>\n",
       "      <td>2</td>\n",
       "      <td>1</td>\n",
       "    </tr>\n",
       "    <tr>\n",
       "      <th>2018-12-31</th>\n",
       "      <td>2</td>\n",
       "      <td>1</td>\n",
       "    </tr>\n",
       "    <tr>\n",
       "      <th>2019-03-31</th>\n",
       "      <td>3</td>\n",
       "      <td>1</td>\n",
       "    </tr>\n",
       "    <tr>\n",
       "      <th>2019-06-30</th>\n",
       "      <td>3</td>\n",
       "      <td>1</td>\n",
       "    </tr>\n",
       "    <tr>\n",
       "      <th>2019-09-30</th>\n",
       "      <td>3</td>\n",
       "      <td>1</td>\n",
       "    </tr>\n",
       "    <tr>\n",
       "      <th>2019-12-31</th>\n",
       "      <td>3</td>\n",
       "      <td>1</td>\n",
       "    </tr>\n",
       "    <tr>\n",
       "      <th>2020-03-31</th>\n",
       "      <td>4</td>\n",
       "      <td>1</td>\n",
       "    </tr>\n",
       "    <tr>\n",
       "      <th>2020-06-30</th>\n",
       "      <td>4</td>\n",
       "      <td>1</td>\n",
       "    </tr>\n",
       "    <tr>\n",
       "      <th>2020-09-30</th>\n",
       "      <td>4</td>\n",
       "      <td>1</td>\n",
       "    </tr>\n",
       "    <tr>\n",
       "      <th>2020-12-31</th>\n",
       "      <td>4</td>\n",
       "      <td>1</td>\n",
       "    </tr>\n",
       "  </tbody>\n",
       "</table>\n",
       "</div>"
      ],
      "text/plain": [
       "            Test  Type\n",
       "2017-03-31     1     0\n",
       "2017-06-30     1     0\n",
       "2017-09-30     1     0\n",
       "2017-12-31     1     0\n",
       "2018-03-31     2     1\n",
       "2018-06-30     2     1\n",
       "2018-09-30     2     1\n",
       "2018-12-31     2     1\n",
       "2019-03-31     3     1\n",
       "2019-06-30     3     1\n",
       "2019-09-30     3     1\n",
       "2019-12-31     3     1\n",
       "2020-03-31     4     1\n",
       "2020-06-30     4     1\n",
       "2020-09-30     4     1\n",
       "2020-12-31     4     1"
      ]
     },
     "execution_count": 17,
     "metadata": {},
     "output_type": "execute_result"
    }
   ],
   "source": [
    "dates=pd.date_range('2017',periods = 16, freq = 'Q')\n",
    "sigma, mu = 1, 0\n",
    "dataseries=pd.Series([1, 1, 1, 1, 2, 2, 2, 2, 3, 3, 3, 3, 4, 4, 4, 4],index=dates)\n",
    "df=pd.DataFrame({'Test':dataseries})\n",
    "df['Type'] = [0, 0, 0, 0, 1, 1, 1, 1, 1, 1, 1, 1, 1, 1, 1, 1]\n",
    "df"
   ]
  },
  {
   "cell_type": "code",
   "execution_count": 13,
   "metadata": {
    "collapsed": false
   },
   "outputs": [
    {
     "data": {
      "text/plain": [
       "2018-12-31     8\n",
       "2019-12-31    12\n",
       "2020-12-31    16\n",
       "Freq: A-DEC, Name: Test, dtype: int64"
      ]
     },
     "execution_count": 13,
     "metadata": {},
     "output_type": "execute_result"
    }
   ],
   "source": [
    "# Q4 base:\n",
    "series = df['Test']\n",
    "series.resample('A-DEC').sum()[1:4]"
   ]
  },
  {
   "cell_type": "code",
   "execution_count": 14,
   "metadata": {
    "collapsed": false
   },
   "outputs": [
    {
     "data": {
      "text/plain": [
       "2018-12-31    2\n",
       "2019-12-31    3\n",
       "2020-12-31    4\n",
       "Freq: A-DEC, Name: Test, dtype: int64"
      ]
     },
     "execution_count": 14,
     "metadata": {},
     "output_type": "execute_result"
    }
   ],
   "source": [
    "# Q4 base:\n",
    "series = df['Test']\n",
    "series.resample('A-DEC').mean()[1:4]"
   ]
  },
  {
   "cell_type": "code",
   "execution_count": 15,
   "metadata": {
    "collapsed": false
   },
   "outputs": [
    {
     "data": {
      "text/plain": [
       "2018-03-31     5\n",
       "2019-03-31     9\n",
       "2020-03-31    13\n",
       "Freq: A-MAR, Name: Test, dtype: int64"
      ]
     },
     "execution_count": 15,
     "metadata": {},
     "output_type": "execute_result"
    }
   ],
   "source": [
    "# Q1 base:\n",
    "series = df['Test']\n",
    "series.resample('A-MAR').sum()[1:4]"
   ]
  },
  {
   "cell_type": "code",
   "execution_count": 16,
   "metadata": {
    "collapsed": false
   },
   "outputs": [
    {
     "data": {
      "text/plain": [
       "2018-03-31    1.25\n",
       "2019-03-31    2.25\n",
       "2020-03-31    3.25\n",
       "Freq: A-MAR, Name: Test, dtype: float64"
      ]
     },
     "execution_count": 16,
     "metadata": {},
     "output_type": "execute_result"
    }
   ],
   "source": [
    "# Q1 base:\n",
    "series = df['Test']\n",
    "series.resample('A-MAR').mean()[1:4]"
   ]
  }
 ],
 "metadata": {
  "anaconda-cloud": {},
  "kernelspec": {
   "display_name": "Python [conda root]",
   "language": "python",
   "name": "conda-root-py"
  },
  "language_info": {
   "codemirror_mode": {
    "name": "ipython",
    "version": 2
   },
   "file_extension": ".py",
   "mimetype": "text/x-python",
   "name": "python",
   "nbconvert_exporter": "python",
   "pygments_lexer": "ipython2",
   "version": "2.7.12"
  }
 },
 "nbformat": 4,
 "nbformat_minor": 1
}
